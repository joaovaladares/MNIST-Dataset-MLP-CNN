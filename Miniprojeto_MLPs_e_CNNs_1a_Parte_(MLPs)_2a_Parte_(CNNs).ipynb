{
  "nbformat": 4,
  "nbformat_minor": 0,
  "metadata": {
    "colab": {
      "name": "Miniprojeto - MLPs e CNNs - 1a Parte (MLPs) - 2a Parte (CNNs)",
      "provenance": [],
      "collapsed_sections": []
    },
    "kernelspec": {
      "display_name": "Python 3",
      "name": "python3"
    },
    "language_info": {
      "name": "python"
    }
  },
  "cells": [
    {
      "cell_type": "markdown",
      "metadata": {
        "id": "qzRPUF2l26y6"
      },
      "source": [
        "# **Classificando o dataset MNIST usando MLPs e CNN**\n",
        "\n",
        "### Membros\n",
        "\n",
        "* Antônio Barros\n",
        "* André Vasconcelos\n",
        "* Heitor Santos\n",
        "* João Vítor Valadares\n",
        "* Robson Oliveira\n",
        "\n",
        "###Introdução\n",
        "Esse relatório fala sobre o desenvolvimento de uma solução para o problema de classificação de dígitos escritos manualmente do dataset MNIST, dividido em duas partes, a primeira usando Redes Neurais Multilayer Perceptron (MLP) e a segunda Redes Neurais Convolucionais (CNN). O dataset MNIST consiste em 70 mil imagens 28x28 dos dígitos de 0 a 9, sendo 60 mil samples de treinamento e 10 mil samples de teste.\n",
        "\n",
        "##Bibliotecas\n",
        "Utilizamos basicamente para o treinamento, modelagem da nossa Rede Neural, o conjunto de bibliotecas do Tensorflow e Keras. E o Numpy para representar dados e funções."
      ]
    },
    {
      "cell_type": "code",
      "metadata": {
        "id": "4TnBdXBwOrKk"
      },
      "source": [
        "import numpy as np\n",
        "import tensorflow as tf\n",
        "from tensorflow import keras\n",
        "from tensorflow.keras import layers\n",
        "from tensorflow.keras.optimizers import SGD, Adam"
      ],
      "execution_count": null,
      "outputs": []
    },
    {
      "cell_type": "markdown",
      "metadata": {
        "id": "8i1C21_V_WXT"
      },
      "source": [
        "##Processando e Carregando Dado\n",
        "\n",
        "Carregamos o MNIST dataset já vetorizado em formato numpy e separado em vetores de treinamento: *x_train, y_train* que contém o vetor de imagens e valores esperado respectivamente; e em vetores de teste: *x_test, y_test*, que contém o vetor de imagens e valores esperado respectivamente. \n",
        "\n",
        "Normalizamos as imagens ao formato desejado (uint8 para float32), para ficar no intervalo de [0,1] dividimos o vetor de imagens por 255 (uint8 vai do intervalo [0,255]). E convertamos também para uma matriz de classe binária, os vetores de classe.\n",
        "\n",
        "---\n",
        "\n"
      ]
    },
    {
      "cell_type": "code",
      "metadata": {
        "id": "LcB4JilsTSwQ",
        "colab": {
          "base_uri": "https://localhost:8080/"
        },
        "outputId": "49e3b57d-36c0-4aa9-f09a-183e4d309599"
      },
      "source": [
        "(x_train, y_train), (x_test, y_test) = keras.datasets.mnist.load_data()\n",
        "print(\"{0} samples para treinamento\".format(len(x_train)))\n",
        "print(\"{0} samples para teste\".format(len(x_test)))\n",
        "\n",
        "x_train = x_train.astype(\"float32\") / 255\n",
        "x_test = x_test.astype(\"float32\") / 255\n",
        "\n",
        "x_train = np.expand_dims(x_train, -1)\n",
        "x_test = np.expand_dims(x_test, -1)\n",
        "\n",
        "y_train = keras.utils.to_categorical(y_train, 10)\n",
        "y_test = keras.utils.to_categorical(y_test, 10)"
      ],
      "execution_count": null,
      "outputs": [
        {
          "output_type": "stream",
          "name": "stdout",
          "text": [
            "Downloading data from https://storage.googleapis.com/tensorflow/tf-keras-datasets/mnist.npz\n",
            "11493376/11490434 [==============================] - 0s 0us/step\n",
            "11501568/11490434 [==============================] - 0s 0us/step\n",
            "60000 samples para treinamento\n",
            "10000 samples para teste\n"
          ]
        }
      ]
    },
    {
      "cell_type": "markdown",
      "metadata": {
        "id": "YrrqxcQMBhWK"
      },
      "source": [
        "## Função de Avaliação\n",
        "Para avaliar o desempenho da nossa Rede Neural, criamos duas funções de avaliação, *accuracy_class* responsável por avaliar a acurácia sobre cada classe de resposta, que são os digitos entre 0 a 9. E a *accuracy_total* responsável que retorna as seguintes métricas: **acurácia**, **precision** e **recall**.\n",
        "\n",
        "Definição das métricas:\n",
        "\n",
        "* *accuracy*:  Indica uma performance geral do modelo. Dentre todas as classificações, quantas o modelo classificou corretamente.\n",
        "* *precision*: Entre todas as classificações de classe Positivo que o modelo fez, quantas estão corretas.\n",
        "* *recall*: Dentre todas as situações de classe Positivo como valor esperado, quantas estão corretas."
      ]
    },
    {
      "cell_type": "code",
      "metadata": {
        "id": "PEUhN5uJc7uT"
      },
      "source": [
        "def accuracy_class(model):\n",
        "    predicts = model.predict(x_test)\n",
        "    correctArray = [0,0,0,0,0,0,0,0,0,0]\n",
        "    total = [0,0,0,0,0,0,0,0,0,0]\n",
        "    for correct, predict in zip(y_test.argmax(axis=1), predicts.argmax(axis=1)):\n",
        "        if correct == predict:\n",
        "            correctArray[correct] += 1\n",
        "        total[correct] += 1\n",
        "\n",
        "    print(\"Acurácia por Classe\")\n",
        "    for x in range(10):\n",
        "      percent = (correctArray[x]/total[x])*100\n",
        "      print(\"Classe {0}: {1:.6f}%\".format(x,percent))\n",
        "tf.keras\n",
        "def accuracy_total(model):\n",
        "    _, acc, prec, rec = model.evaluate(x_test, y_test,verbose=0)\n",
        "\n",
        "    print(\"Acurácia Total: {0:.6f}\".format(acc))\n",
        "    print(\"Precision:      {0:.6f}\".format(prec))\n",
        "    print(\"Recall:         {0:.6f}\".format(rec))"
      ],
      "execution_count": null,
      "outputs": []
    },
    {
      "cell_type": "markdown",
      "metadata": {
        "id": "ecoI1DNzFZO4"
      },
      "source": [
        "## Primeira versão: MLP\n",
        "\n",
        "Vamos defirnir uma MLP com as seguintes restrições:\n",
        "\n",
        "*  Uma camada de entrada com um neuron para cada um dos pixels da imagem;\n",
        "*  Uma Hidden Layer com 30 neurônios\n",
        "* E uma Output Layer com 10 neurônios, cada um indicando um digito.\n",
        "\n",
        "E essa Primeira versão da MLP vai ser modificando de acordo com as próximas experimentações"
      ]
    },
    {
      "cell_type": "code",
      "metadata": {
        "colab": {
          "base_uri": "https://localhost:8080/"
        },
        "id": "Fsjp9ptKcooS",
        "outputId": "734fcec3-fc88-4b9f-c56a-472ed277f02a"
      },
      "source": [
        "model = keras.Sequential([\n",
        "    layers.Flatten(input_shape=(28, 28, 1)),\n",
        "    layers.Dense(30),\n",
        "    layers.Dense(10, activation=\"softmax\")\n",
        "])\n",
        "\n",
        "model.compile(loss=\"categorical_crossentropy\", optimizer=SGD(), metrics=[\"accuracy\", keras.metrics.Precision(), keras.metrics.Recall()])\n",
        "\n",
        "model.summary()"
      ],
      "execution_count": null,
      "outputs": [
        {
          "output_type": "stream",
          "name": "stdout",
          "text": [
            "Model: \"sequential\"\n",
            "_________________________________________________________________\n",
            " Layer (type)                Output Shape              Param #   \n",
            "=================================================================\n",
            " flatten (Flatten)           (None, 784)               0         \n",
            "                                                                 \n",
            " dense (Dense)               (None, 30)                23550     \n",
            "                                                                 \n",
            " dense_1 (Dense)             (None, 10)                310       \n",
            "                                                                 \n",
            "=================================================================\n",
            "Total params: 23,860\n",
            "Trainable params: 23,860\n",
            "Non-trainable params: 0\n",
            "_________________________________________________________________\n"
          ]
        }
      ]
    },
    {
      "cell_type": "markdown",
      "metadata": {
        "id": "IhkoR4BGHP8w"
      },
      "source": [
        "## Parâmetros para treinamento\n",
        "Definimos alguns para parâmetros para o treinamento da Rede Neural, a escolha foi feita se baseando nos parâmetros dados inicial pelo [link](http://neuralnetworksanddeeplearning.com/chap1.html), com o intuito de atingir maior perfomance"
      ]
    },
    {
      "cell_type": "code",
      "metadata": {
        "colab": {
          "base_uri": "https://localhost:8080/"
        },
        "id": "GwYqLabSczlQ",
        "outputId": "e73c2041-95c5-40c5-8733-07de94cfd721"
      },
      "source": [
        "model.fit(x_train, y_train, batch_size=10, epochs=30, validation_split=0.1)"
      ],
      "execution_count": null,
      "outputs": [
        {
          "output_type": "stream",
          "name": "stdout",
          "text": [
            "Epoch 1/30\n",
            "5400/5400 [==============================] - 15s 2ms/step - loss: 0.4645 - accuracy: 0.8712 - precision: 0.9317 - recall: 0.8053 - val_loss: 0.2790 - val_accuracy: 0.9227 - val_precision: 0.9432 - val_recall: 0.9023\n",
            "Epoch 2/30\n",
            "5400/5400 [==============================] - 8s 2ms/step - loss: 0.3207 - accuracy: 0.9085 - precision: 0.9312 - recall: 0.8893 - val_loss: 0.2525 - val_accuracy: 0.9298 - val_precision: 0.9500 - val_recall: 0.9153\n",
            "Epoch 3/30\n",
            "5400/5400 [==============================] - 8s 1ms/step - loss: 0.3024 - accuracy: 0.9146 - precision: 0.9341 - recall: 0.8974 - val_loss: 0.2454 - val_accuracy: 0.9285 - val_precision: 0.9468 - val_recall: 0.9162\n",
            "Epoch 4/30\n",
            "5400/5400 [==============================] - 9s 2ms/step - loss: 0.2932 - accuracy: 0.9178 - precision: 0.9348 - recall: 0.9026 - val_loss: 0.2420 - val_accuracy: 0.9307 - val_precision: 0.9486 - val_recall: 0.9195\n",
            "Epoch 5/30\n",
            "5400/5400 [==============================] - 8s 2ms/step - loss: 0.2868 - accuracy: 0.9188 - precision: 0.9357 - recall: 0.9039 - val_loss: 0.2381 - val_accuracy: 0.9345 - val_precision: 0.9499 - val_recall: 0.9223\n",
            "Epoch 6/30\n",
            "5400/5400 [==============================] - 8s 2ms/step - loss: 0.2824 - accuracy: 0.9204 - precision: 0.9367 - recall: 0.9055 - val_loss: 0.2356 - val_accuracy: 0.9345 - val_precision: 0.9501 - val_recall: 0.9235\n",
            "Epoch 7/30\n",
            "5400/5400 [==============================] - 8s 1ms/step - loss: 0.2788 - accuracy: 0.9223 - precision: 0.9382 - recall: 0.9084 - val_loss: 0.2326 - val_accuracy: 0.9367 - val_precision: 0.9509 - val_recall: 0.9257\n",
            "Epoch 8/30\n",
            "5400/5400 [==============================] - 8s 2ms/step - loss: 0.2763 - accuracy: 0.9230 - precision: 0.9383 - recall: 0.9099 - val_loss: 0.2372 - val_accuracy: 0.9345 - val_precision: 0.9498 - val_recall: 0.9240\n",
            "Epoch 9/30\n",
            "5400/5400 [==============================] - 9s 2ms/step - loss: 0.2737 - accuracy: 0.9233 - precision: 0.9389 - recall: 0.9100 - val_loss: 0.2360 - val_accuracy: 0.9340 - val_precision: 0.9489 - val_recall: 0.9220\n",
            "Epoch 10/30\n",
            "5400/5400 [==============================] - 8s 2ms/step - loss: 0.2720 - accuracy: 0.9239 - precision: 0.9389 - recall: 0.9113 - val_loss: 0.2354 - val_accuracy: 0.9343 - val_precision: 0.9491 - val_recall: 0.9257\n",
            "Epoch 11/30\n",
            "5400/5400 [==============================] - 9s 2ms/step - loss: 0.2696 - accuracy: 0.9241 - precision: 0.9392 - recall: 0.9116 - val_loss: 0.2341 - val_accuracy: 0.9363 - val_precision: 0.9518 - val_recall: 0.9275\n",
            "Epoch 12/30\n",
            "5400/5400 [==============================] - 8s 2ms/step - loss: 0.2677 - accuracy: 0.9252 - precision: 0.9405 - recall: 0.9128 - val_loss: 0.2383 - val_accuracy: 0.9360 - val_precision: 0.9487 - val_recall: 0.9255\n",
            "Epoch 13/30\n",
            "5400/5400 [==============================] - 8s 2ms/step - loss: 0.2666 - accuracy: 0.9257 - precision: 0.9403 - recall: 0.9133 - val_loss: 0.2302 - val_accuracy: 0.9352 - val_precision: 0.9496 - val_recall: 0.9260\n",
            "Epoch 14/30\n",
            "5400/5400 [==============================] - 9s 2ms/step - loss: 0.2651 - accuracy: 0.9254 - precision: 0.9399 - recall: 0.9137 - val_loss: 0.2328 - val_accuracy: 0.9345 - val_precision: 0.9460 - val_recall: 0.9263\n",
            "Epoch 15/30\n",
            "5400/5400 [==============================] - 8s 2ms/step - loss: 0.2645 - accuracy: 0.9258 - precision: 0.9398 - recall: 0.9137 - val_loss: 0.2347 - val_accuracy: 0.9362 - val_precision: 0.9489 - val_recall: 0.9257\n",
            "Epoch 16/30\n",
            "5400/5400 [==============================] - 8s 2ms/step - loss: 0.2630 - accuracy: 0.9263 - precision: 0.9411 - recall: 0.9137 - val_loss: 0.2287 - val_accuracy: 0.9392 - val_precision: 0.9518 - val_recall: 0.9288\n",
            "Epoch 17/30\n",
            "5400/5400 [==============================] - 8s 2ms/step - loss: 0.2625 - accuracy: 0.9270 - precision: 0.9409 - recall: 0.9151 - val_loss: 0.2460 - val_accuracy: 0.9305 - val_precision: 0.9438 - val_recall: 0.9200\n",
            "Epoch 18/30\n",
            "5400/5400 [==============================] - 8s 2ms/step - loss: 0.2612 - accuracy: 0.9275 - precision: 0.9412 - recall: 0.9144 - val_loss: 0.2377 - val_accuracy: 0.9350 - val_precision: 0.9460 - val_recall: 0.9247\n",
            "Epoch 19/30\n",
            "5400/5400 [==============================] - 8s 2ms/step - loss: 0.2599 - accuracy: 0.9279 - precision: 0.9414 - recall: 0.9155 - val_loss: 0.2350 - val_accuracy: 0.9373 - val_precision: 0.9495 - val_recall: 0.9267\n",
            "Epoch 20/30\n",
            "5400/5400 [==============================] - 8s 1ms/step - loss: 0.2594 - accuracy: 0.9279 - precision: 0.9420 - recall: 0.9161 - val_loss: 0.2420 - val_accuracy: 0.9332 - val_precision: 0.9451 - val_recall: 0.9235\n",
            "Epoch 21/30\n",
            "5400/5400 [==============================] - 8s 2ms/step - loss: 0.2589 - accuracy: 0.9273 - precision: 0.9407 - recall: 0.9160 - val_loss: 0.2386 - val_accuracy: 0.9340 - val_precision: 0.9474 - val_recall: 0.9237\n",
            "Epoch 22/30\n",
            "5400/5400 [==============================] - 8s 2ms/step - loss: 0.2574 - accuracy: 0.9288 - precision: 0.9424 - recall: 0.9161 - val_loss: 0.2323 - val_accuracy: 0.9357 - val_precision: 0.9480 - val_recall: 0.9260\n",
            "Epoch 23/30\n",
            "5400/5400 [==============================] - 8s 2ms/step - loss: 0.2573 - accuracy: 0.9282 - precision: 0.9420 - recall: 0.9158 - val_loss: 0.2345 - val_accuracy: 0.9343 - val_precision: 0.9463 - val_recall: 0.9252\n",
            "Epoch 24/30\n",
            "5400/5400 [==============================] - 8s 2ms/step - loss: 0.2566 - accuracy: 0.9284 - precision: 0.9420 - recall: 0.9159 - val_loss: 0.2333 - val_accuracy: 0.9355 - val_precision: 0.9466 - val_recall: 0.9247\n",
            "Epoch 25/30\n",
            "5400/5400 [==============================] - 8s 1ms/step - loss: 0.2559 - accuracy: 0.9284 - precision: 0.9425 - recall: 0.9164 - val_loss: 0.2368 - val_accuracy: 0.9362 - val_precision: 0.9472 - val_recall: 0.9270\n",
            "Epoch 26/30\n",
            "5400/5400 [==============================] - 8s 2ms/step - loss: 0.2558 - accuracy: 0.9290 - precision: 0.9426 - recall: 0.9172 - val_loss: 0.2394 - val_accuracy: 0.9335 - val_precision: 0.9440 - val_recall: 0.9223\n",
            "Epoch 27/30\n",
            "5400/5400 [==============================] - 8s 2ms/step - loss: 0.2547 - accuracy: 0.9292 - precision: 0.9423 - recall: 0.9176 - val_loss: 0.2365 - val_accuracy: 0.9367 - val_precision: 0.9475 - val_recall: 0.9272\n",
            "Epoch 28/30\n",
            "5400/5400 [==============================] - 9s 2ms/step - loss: 0.2543 - accuracy: 0.9286 - precision: 0.9428 - recall: 0.9173 - val_loss: 0.2405 - val_accuracy: 0.9348 - val_precision: 0.9473 - val_recall: 0.9262\n",
            "Epoch 29/30\n",
            "5400/5400 [==============================] - 9s 2ms/step - loss: 0.2543 - accuracy: 0.9285 - precision: 0.9424 - recall: 0.9171 - val_loss: 0.2313 - val_accuracy: 0.9363 - val_precision: 0.9482 - val_recall: 0.9278\n",
            "Epoch 30/30\n",
            "5400/5400 [==============================] - 13s 2ms/step - loss: 0.2533 - accuracy: 0.9299 - precision: 0.9431 - recall: 0.9179 - val_loss: 0.2351 - val_accuracy: 0.9347 - val_precision: 0.9460 - val_recall: 0.9252\n"
          ]
        },
        {
          "output_type": "execute_result",
          "data": {
            "text/plain": [
              "<keras.callbacks.History at 0x7fdeb231e310>"
            ]
          },
          "metadata": {},
          "execution_count": 5
        }
      ]
    },
    {
      "cell_type": "code",
      "metadata": {
        "colab": {
          "base_uri": "https://localhost:8080/"
        },
        "id": "d27D7cBmc8V2",
        "outputId": "3bedf678-c97d-4580-e2e9-a0aaf0525297"
      },
      "source": [
        "accuracy_class(model)"
      ],
      "execution_count": null,
      "outputs": [
        {
          "output_type": "stream",
          "name": "stdout",
          "text": [
            "Acurácia por Classe\n",
            "Classe 0: 97.755102%\n",
            "Classe 1: 98.149780%\n",
            "Classe 2: 88.565891%\n",
            "Classe 3: 90.990099%\n",
            "Classe 4: 92.362525%\n",
            "Classe 5: 87.780269%\n",
            "Classe 6: 95.302714%\n",
            "Classe 7: 91.731518%\n",
            "Classe 8: 89.733060%\n",
            "Classe 9: 89.494549%\n"
          ]
        }
      ]
    },
    {
      "cell_type": "code",
      "metadata": {
        "colab": {
          "base_uri": "https://localhost:8080/"
        },
        "id": "DpalWBAxdyKR",
        "outputId": "a88567b8-a69d-4ce4-de3e-f3508eb6e1c8"
      },
      "source": [
        "accuracy_total(model)"
      ],
      "execution_count": null,
      "outputs": [
        {
          "output_type": "stream",
          "name": "stdout",
          "text": [
            "Acurácia Total: 0.922800\n",
            "Precision:      0.937346\n",
            "Recall:         0.914100\n"
          ]
        }
      ]
    },
    {
      "cell_type": "markdown",
      "metadata": {
        "id": "PE0RKX_UI1Vw"
      },
      "source": [
        "Com o termino do treinamento e da avaliação podemos perceber essa primeira versão da nossa Rede já atinge uma grande parte dos dados do dataset."
      ]
    },
    {
      "cell_type": "markdown",
      "metadata": {
        "id": "ywGC9QIZlGeo"
      },
      "source": [
        "##Experimentações\n",
        "\n",
        "A partir do nosso modelo básico de MLP, vamos ir modificando ele para tentar atingir maiores níveis de acerto, modificando: tamanho da rede, taxa\n",
        "de aprendizagem, função de ativação, algoritmo de aprendizagem,\n",
        "drop-out"
      ]
    },
    {
      "cell_type": "markdown",
      "metadata": {
        "id": "aXv7gRD6lI1c"
      },
      "source": [
        "## Segunda versão: MLP\n",
        "\n",
        "Vamos verificar se aumentando o batch_size de 10 para 128, vamos ter um aumento no desempenho."
      ]
    },
    {
      "cell_type": "code",
      "metadata": {
        "colab": {
          "base_uri": "https://localhost:8080/"
        },
        "id": "GZ44hT2clMsI",
        "outputId": "a5458585-02d0-4c69-dcab-42c16f1af69f"
      },
      "source": [
        "model2 = keras.Sequential([\n",
        "    layers.Flatten(input_shape=(28, 28, 1)),\n",
        "    layers.Dense(30),\n",
        "    layers.Dense(10, activation=\"softmax\")\n",
        "])\n",
        "\n",
        "model2.compile(loss=\"categorical_crossentropy\", optimizer=SGD(), metrics=[\"accuracy\", keras.metrics.Precision(), keras.metrics.Recall()])\n",
        "\n",
        "model2.summary()"
      ],
      "execution_count": null,
      "outputs": [
        {
          "output_type": "stream",
          "name": "stdout",
          "text": [
            "Model: \"sequential_2\"\n",
            "_________________________________________________________________\n",
            "Layer (type)                 Output Shape              Param #   \n",
            "=================================================================\n",
            "flatten_2 (Flatten)          (None, 784)               0         \n",
            "_________________________________________________________________\n",
            "dense_4 (Dense)              (None, 30)                23550     \n",
            "_________________________________________________________________\n",
            "dense_5 (Dense)              (None, 10)                310       \n",
            "=================================================================\n",
            "Total params: 23,860\n",
            "Trainable params: 23,860\n",
            "Non-trainable params: 0\n",
            "_________________________________________________________________\n"
          ]
        }
      ]
    },
    {
      "cell_type": "code",
      "metadata": {
        "colab": {
          "base_uri": "https://localhost:8080/"
        },
        "id": "R70W3bcfmDiv",
        "outputId": "ba4ece49-a24a-45fd-da03-0acacbbe00c2"
      },
      "source": [
        "model2.fit(x_train, y_train, batch_size=128, epochs=30, validation_split=0.1)"
      ],
      "execution_count": null,
      "outputs": [
        {
          "output_type": "stream",
          "name": "stdout",
          "text": [
            "Epoch 1/30\n",
            "422/422 [==============================] - 1s 3ms/step - loss: 0.2896 - accuracy: 0.9185 - precision_2: 0.9375 - recall_2: 0.9017 - val_loss: 0.2446 - val_accuracy: 0.9312 - val_precision_2: 0.9475 - val_recall_2: 0.9177\n",
            "Epoch 2/30\n",
            "422/422 [==============================] - 1s 2ms/step - loss: 0.2887 - accuracy: 0.9189 - precision_2: 0.9376 - recall_2: 0.9025 - val_loss: 0.2445 - val_accuracy: 0.9313 - val_precision_2: 0.9473 - val_recall_2: 0.9168\n",
            "Epoch 3/30\n",
            "422/422 [==============================] - 1s 3ms/step - loss: 0.2875 - accuracy: 0.9190 - precision_2: 0.9382 - recall_2: 0.9026 - val_loss: 0.2435 - val_accuracy: 0.9305 - val_precision_2: 0.9477 - val_recall_2: 0.9175\n",
            "Epoch 4/30\n",
            "422/422 [==============================] - 1s 3ms/step - loss: 0.2867 - accuracy: 0.9192 - precision_2: 0.9381 - recall_2: 0.9034 - val_loss: 0.2432 - val_accuracy: 0.9313 - val_precision_2: 0.9493 - val_recall_2: 0.9177\n",
            "Epoch 5/30\n",
            "422/422 [==============================] - 1s 3ms/step - loss: 0.2858 - accuracy: 0.9196 - precision_2: 0.9383 - recall_2: 0.9035 - val_loss: 0.2425 - val_accuracy: 0.9318 - val_precision_2: 0.9477 - val_recall_2: 0.9178\n",
            "Epoch 6/30\n",
            "422/422 [==============================] - 1s 2ms/step - loss: 0.2849 - accuracy: 0.9199 - precision_2: 0.9385 - recall_2: 0.9039 - val_loss: 0.2423 - val_accuracy: 0.9317 - val_precision_2: 0.9473 - val_recall_2: 0.9173\n",
            "Epoch 7/30\n",
            "422/422 [==============================] - 1s 3ms/step - loss: 0.2841 - accuracy: 0.9200 - precision_2: 0.9384 - recall_2: 0.9042 - val_loss: 0.2418 - val_accuracy: 0.9317 - val_precision_2: 0.9494 - val_recall_2: 0.9187\n",
            "Epoch 8/30\n",
            "422/422 [==============================] - 1s 3ms/step - loss: 0.2834 - accuracy: 0.9201 - precision_2: 0.9386 - recall_2: 0.9045 - val_loss: 0.2414 - val_accuracy: 0.9312 - val_precision_2: 0.9477 - val_recall_2: 0.9183\n",
            "Epoch 9/30\n",
            "422/422 [==============================] - 1s 3ms/step - loss: 0.2826 - accuracy: 0.9207 - precision_2: 0.9387 - recall_2: 0.9045 - val_loss: 0.2412 - val_accuracy: 0.9323 - val_precision_2: 0.9493 - val_recall_2: 0.9180\n",
            "Epoch 10/30\n",
            "422/422 [==============================] - 1s 3ms/step - loss: 0.2819 - accuracy: 0.9205 - precision_2: 0.9391 - recall_2: 0.9051 - val_loss: 0.2407 - val_accuracy: 0.9317 - val_precision_2: 0.9489 - val_recall_2: 0.9188\n",
            "Epoch 11/30\n",
            "422/422 [==============================] - 1s 3ms/step - loss: 0.2811 - accuracy: 0.9213 - precision_2: 0.9389 - recall_2: 0.9059 - val_loss: 0.2398 - val_accuracy: 0.9317 - val_precision_2: 0.9487 - val_recall_2: 0.9187\n",
            "Epoch 12/30\n",
            "422/422 [==============================] - 1s 3ms/step - loss: 0.2804 - accuracy: 0.9211 - precision_2: 0.9392 - recall_2: 0.9061 - val_loss: 0.2401 - val_accuracy: 0.9322 - val_precision_2: 0.9498 - val_recall_2: 0.9178\n",
            "Epoch 13/30\n",
            "422/422 [==============================] - 1s 2ms/step - loss: 0.2797 - accuracy: 0.9216 - precision_2: 0.9393 - recall_2: 0.9066 - val_loss: 0.2396 - val_accuracy: 0.9322 - val_precision_2: 0.9484 - val_recall_2: 0.9188\n",
            "Epoch 14/30\n",
            "422/422 [==============================] - 1s 3ms/step - loss: 0.2792 - accuracy: 0.9219 - precision_2: 0.9390 - recall_2: 0.9064 - val_loss: 0.2392 - val_accuracy: 0.9328 - val_precision_2: 0.9486 - val_recall_2: 0.9200\n",
            "Epoch 15/30\n",
            "422/422 [==============================] - 1s 3ms/step - loss: 0.2786 - accuracy: 0.9218 - precision_2: 0.9397 - recall_2: 0.9065 - val_loss: 0.2391 - val_accuracy: 0.9333 - val_precision_2: 0.9486 - val_recall_2: 0.9190\n",
            "Epoch 16/30\n",
            "422/422 [==============================] - 1s 3ms/step - loss: 0.2779 - accuracy: 0.9223 - precision_2: 0.9400 - recall_2: 0.9071 - val_loss: 0.2383 - val_accuracy: 0.9335 - val_precision_2: 0.9486 - val_recall_2: 0.9203\n",
            "Epoch 17/30\n",
            "422/422 [==============================] - 1s 2ms/step - loss: 0.2775 - accuracy: 0.9221 - precision_2: 0.9398 - recall_2: 0.9075 - val_loss: 0.2376 - val_accuracy: 0.9337 - val_precision_2: 0.9482 - val_recall_2: 0.9205\n",
            "Epoch 18/30\n",
            "422/422 [==============================] - 1s 2ms/step - loss: 0.2767 - accuracy: 0.9224 - precision_2: 0.9398 - recall_2: 0.9076 - val_loss: 0.2375 - val_accuracy: 0.9332 - val_precision_2: 0.9481 - val_recall_2: 0.9200\n",
            "Epoch 19/30\n",
            "422/422 [==============================] - 1s 3ms/step - loss: 0.2762 - accuracy: 0.9221 - precision_2: 0.9401 - recall_2: 0.9077 - val_loss: 0.2375 - val_accuracy: 0.9347 - val_precision_2: 0.9488 - val_recall_2: 0.9212\n",
            "Epoch 20/30\n",
            "422/422 [==============================] - 1s 3ms/step - loss: 0.2757 - accuracy: 0.9227 - precision_2: 0.9401 - recall_2: 0.9082 - val_loss: 0.2369 - val_accuracy: 0.9340 - val_precision_2: 0.9495 - val_recall_2: 0.9190\n",
            "Epoch 21/30\n",
            "422/422 [==============================] - 1s 3ms/step - loss: 0.2752 - accuracy: 0.9228 - precision_2: 0.9402 - recall_2: 0.9080 - val_loss: 0.2370 - val_accuracy: 0.9347 - val_precision_2: 0.9493 - val_recall_2: 0.9210\n",
            "Epoch 22/30\n",
            "422/422 [==============================] - 1s 2ms/step - loss: 0.2746 - accuracy: 0.9233 - precision_2: 0.9406 - recall_2: 0.9083 - val_loss: 0.2368 - val_accuracy: 0.9347 - val_precision_2: 0.9488 - val_recall_2: 0.9210\n",
            "Epoch 23/30\n",
            "422/422 [==============================] - 1s 2ms/step - loss: 0.2742 - accuracy: 0.9231 - precision_2: 0.9406 - recall_2: 0.9086 - val_loss: 0.2364 - val_accuracy: 0.9338 - val_precision_2: 0.9487 - val_recall_2: 0.9210\n",
            "Epoch 24/30\n",
            "422/422 [==============================] - 1s 3ms/step - loss: 0.2736 - accuracy: 0.9234 - precision_2: 0.9407 - recall_2: 0.9092 - val_loss: 0.2365 - val_accuracy: 0.9350 - val_precision_2: 0.9485 - val_recall_2: 0.9215\n",
            "Epoch 25/30\n",
            "422/422 [==============================] - 1s 3ms/step - loss: 0.2732 - accuracy: 0.9232 - precision_2: 0.9406 - recall_2: 0.9090 - val_loss: 0.2357 - val_accuracy: 0.9350 - val_precision_2: 0.9503 - val_recall_2: 0.9213\n",
            "Epoch 26/30\n",
            "422/422 [==============================] - 1s 3ms/step - loss: 0.2728 - accuracy: 0.9239 - precision_2: 0.9408 - recall_2: 0.9094 - val_loss: 0.2358 - val_accuracy: 0.9353 - val_precision_2: 0.9495 - val_recall_2: 0.9218\n",
            "Epoch 27/30\n",
            "422/422 [==============================] - 1s 3ms/step - loss: 0.2723 - accuracy: 0.9236 - precision_2: 0.9409 - recall_2: 0.9091 - val_loss: 0.2355 - val_accuracy: 0.9345 - val_precision_2: 0.9507 - val_recall_2: 0.9215\n",
            "Epoch 28/30\n",
            "422/422 [==============================] - 1s 3ms/step - loss: 0.2719 - accuracy: 0.9240 - precision_2: 0.9411 - recall_2: 0.9091 - val_loss: 0.2353 - val_accuracy: 0.9343 - val_precision_2: 0.9491 - val_recall_2: 0.9227\n",
            "Epoch 29/30\n",
            "422/422 [==============================] - 1s 3ms/step - loss: 0.2713 - accuracy: 0.9237 - precision_2: 0.9409 - recall_2: 0.9096 - val_loss: 0.2350 - val_accuracy: 0.9353 - val_precision_2: 0.9492 - val_recall_2: 0.9218\n",
            "Epoch 30/30\n",
            "422/422 [==============================] - 1s 3ms/step - loss: 0.2710 - accuracy: 0.9242 - precision_2: 0.9412 - recall_2: 0.9095 - val_loss: 0.2347 - val_accuracy: 0.9343 - val_precision_2: 0.9497 - val_recall_2: 0.9217\n"
          ]
        },
        {
          "output_type": "execute_result",
          "data": {
            "text/plain": [
              "<keras.callbacks.History at 0x7f2e34028e10>"
            ]
          },
          "metadata": {},
          "execution_count": 21
        }
      ]
    },
    {
      "cell_type": "code",
      "metadata": {
        "colab": {
          "base_uri": "https://localhost:8080/"
        },
        "id": "ApjwSXI7nk7E",
        "outputId": "5a20cdeb-93c3-498a-ab8d-d2e748fceeaf"
      },
      "source": [
        "accuracy_class(model2)"
      ],
      "execution_count": null,
      "outputs": [
        {
          "output_type": "stream",
          "name": "stdout",
          "text": [
            "Acurácia por Classe\n",
            "Classe 0: 97.959184%\n",
            "Classe 1: 97.444934%\n",
            "Classe 2: 89.341085%\n",
            "Classe 3: 91.287129%\n",
            "Classe 4: 92.464358%\n",
            "Classe 5: 86.098655%\n",
            "Classe 6: 95.198330%\n",
            "Classe 7: 93.093385%\n",
            "Classe 8: 89.117043%\n",
            "Classe 9: 89.593657%\n"
          ]
        }
      ]
    },
    {
      "cell_type": "code",
      "metadata": {
        "colab": {
          "base_uri": "https://localhost:8080/"
        },
        "id": "VLU1IXjennbY",
        "outputId": "e7709361-ec97-4f8f-b18f-35b51e141d6e"
      },
      "source": [
        "accuracy_total(model2)"
      ],
      "execution_count": null,
      "outputs": [
        {
          "output_type": "stream",
          "name": "stdout",
          "text": [
            "Acurácia Total: 0.922700\n",
            "Precision:      0.939121\n",
            "Recall:         0.908600\n"
          ]
        }
      ]
    },
    {
      "cell_type": "markdown",
      "metadata": {
        "id": "yddJNbHdK6GW"
      },
      "source": [
        "Percebemos que apesar que o aumento do batch agilizou o treinamento da nossa Rede, ela foi ligeraimente pior que a nossa primeira versão, na acurácia total temos uma diferença de 0.0001 ou 0.01%"
      ]
    },
    {
      "cell_type": "markdown",
      "metadata": {
        "id": "j19nyafToWwR"
      },
      "source": [
        "\n",
        "## Terceira versão: MLP\n",
        "No terceiro experimento nós substítuimos a função de ativação da output layer para a função sigmoide."
      ]
    },
    {
      "cell_type": "code",
      "metadata": {
        "colab": {
          "base_uri": "https://localhost:8080/"
        },
        "id": "8hhnziq7oYh9",
        "outputId": "bcdba609-b411-4c89-ce1e-b8d35b3170db"
      },
      "source": [
        "model3 = keras.Sequential([\n",
        "    layers.Flatten(input_shape=(28, 28, 1)),\n",
        "    layers.Dense(30),\n",
        "    layers.Dense(10, activation=\"sigmoid\")\n",
        "])\n",
        "\n",
        "model3.compile(loss=\"categorical_crossentropy\", optimizer=SGD(), metrics=[\"accuracy\", keras.metrics.Precision(), keras.metrics.Recall()])\n",
        "\n",
        "model3.summary()"
      ],
      "execution_count": null,
      "outputs": [
        {
          "output_type": "stream",
          "name": "stdout",
          "text": [
            "Model: \"sequential_20\"\n",
            "_________________________________________________________________\n",
            "Layer (type)                 Output Shape              Param #   \n",
            "=================================================================\n",
            "flatten_21 (Flatten)         (None, 784)               0         \n",
            "_________________________________________________________________\n",
            "dense_60 (Dense)             (None, 30)                23550     \n",
            "_________________________________________________________________\n",
            "dense_61 (Dense)             (None, 10)                310       \n",
            "=================================================================\n",
            "Total params: 23,860\n",
            "Trainable params: 23,860\n",
            "Non-trainable params: 0\n",
            "_________________________________________________________________\n"
          ]
        }
      ]
    },
    {
      "cell_type": "code",
      "metadata": {
        "colab": {
          "base_uri": "https://localhost:8080/"
        },
        "id": "TJpoVPf1oezj",
        "outputId": "849fbf2b-1293-4803-f4b4-5675c783848f"
      },
      "source": [
        "model3.fit(x_train, y_train, batch_size=10, epochs=30, validation_split=0.1) # mudou a função de ativação e mantivemos os outros parametros"
      ],
      "execution_count": null,
      "outputs": [
        {
          "output_type": "stream",
          "name": "stdout",
          "text": [
            "Epoch 1/30\n",
            "422/422 [==============================] - 2s 4ms/step - loss: 1.1645 - accuracy: 0.6975 - precision_19: 0.2058 - recall_19: 0.9349 - val_loss: 0.6209 - val_accuracy: 0.8643 - val_precision_19: 0.2259 - val_recall_19: 0.9872\n",
            "Epoch 2/30\n",
            "422/422 [==============================] - 1s 3ms/step - loss: 0.5913 - accuracy: 0.8499 - precision_19: 0.2195 - recall_19: 0.9846 - val_loss: 0.4372 - val_accuracy: 0.8953 - val_precision_19: 0.2219 - val_recall_19: 0.9900\n",
            "Epoch 3/30\n",
            "422/422 [==============================] - 1s 3ms/step - loss: 0.4791 - accuracy: 0.8721 - precision_19: 0.2171 - recall_19: 0.9884 - val_loss: 0.3708 - val_accuracy: 0.9052 - val_precision_19: 0.2185 - val_recall_19: 0.9915\n",
            "Epoch 4/30\n",
            "422/422 [==============================] - 1s 3ms/step - loss: 0.4287 - accuracy: 0.8832 - precision_19: 0.2153 - recall_19: 0.9902 - val_loss: 0.3373 - val_accuracy: 0.9120 - val_precision_19: 0.2160 - val_recall_19: 0.9928\n",
            "Epoch 5/30\n",
            "422/422 [==============================] - 1s 3ms/step - loss: 0.3996 - accuracy: 0.8894 - precision_19: 0.2135 - recall_19: 0.9913 - val_loss: 0.3177 - val_accuracy: 0.9148 - val_precision_19: 0.2140 - val_recall_19: 0.9935\n",
            "Epoch 6/30\n",
            "422/422 [==============================] - 1s 3ms/step - loss: 0.3802 - accuracy: 0.8946 - precision_19: 0.2122 - recall_19: 0.9920 - val_loss: 0.3034 - val_accuracy: 0.9172 - val_precision_19: 0.2132 - val_recall_19: 0.9938\n",
            "Epoch 7/30\n",
            "422/422 [==============================] - 1s 3ms/step - loss: 0.3662 - accuracy: 0.8979 - precision_19: 0.2112 - recall_19: 0.9925 - val_loss: 0.2936 - val_accuracy: 0.9192 - val_precision_19: 0.2120 - val_recall_19: 0.9945\n",
            "Epoch 8/30\n",
            "422/422 [==============================] - 1s 3ms/step - loss: 0.3556 - accuracy: 0.9005 - precision_19: 0.2100 - recall_19: 0.9929 - val_loss: 0.2865 - val_accuracy: 0.9202 - val_precision_19: 0.2120 - val_recall_19: 0.9947\n",
            "Epoch 9/30\n",
            "422/422 [==============================] - 1s 3ms/step - loss: 0.3471 - accuracy: 0.9025 - precision_19: 0.2094 - recall_19: 0.9933 - val_loss: 0.2810 - val_accuracy: 0.9210 - val_precision_19: 0.2097 - val_recall_19: 0.9948\n",
            "Epoch 10/30\n",
            "422/422 [==============================] - 1s 3ms/step - loss: 0.3402 - accuracy: 0.9044 - precision_19: 0.2088 - recall_19: 0.9936 - val_loss: 0.2757 - val_accuracy: 0.9215 - val_precision_19: 0.2096 - val_recall_19: 0.9948\n",
            "Epoch 11/30\n",
            "422/422 [==============================] - 1s 3ms/step - loss: 0.3342 - accuracy: 0.9060 - precision_19: 0.2081 - recall_19: 0.9939 - val_loss: 0.2726 - val_accuracy: 0.9210 - val_precision_19: 0.2085 - val_recall_19: 0.9948\n",
            "Epoch 12/30\n",
            "422/422 [==============================] - 1s 3ms/step - loss: 0.3293 - accuracy: 0.9073 - precision_19: 0.2078 - recall_19: 0.9941 - val_loss: 0.2691 - val_accuracy: 0.9247 - val_precision_19: 0.2077 - val_recall_19: 0.9952\n",
            "Epoch 13/30\n",
            "422/422 [==============================] - 1s 3ms/step - loss: 0.3251 - accuracy: 0.9084 - precision_19: 0.2072 - recall_19: 0.9943 - val_loss: 0.2661 - val_accuracy: 0.9242 - val_precision_19: 0.2083 - val_recall_19: 0.9952\n",
            "Epoch 14/30\n",
            "422/422 [==============================] - 1s 3ms/step - loss: 0.3211 - accuracy: 0.9092 - precision_19: 0.2070 - recall_19: 0.9945 - val_loss: 0.2630 - val_accuracy: 0.9267 - val_precision_19: 0.2072 - val_recall_19: 0.9953\n",
            "Epoch 15/30\n",
            "422/422 [==============================] - 1s 3ms/step - loss: 0.3177 - accuracy: 0.9105 - precision_19: 0.2068 - recall_19: 0.9947 - val_loss: 0.2611 - val_accuracy: 0.9260 - val_precision_19: 0.2071 - val_recall_19: 0.9953\n",
            "Epoch 16/30\n",
            "422/422 [==============================] - 1s 3ms/step - loss: 0.3148 - accuracy: 0.9111 - precision_19: 0.2065 - recall_19: 0.9948 - val_loss: 0.2587 - val_accuracy: 0.9265 - val_precision_19: 0.2067 - val_recall_19: 0.9953\n",
            "Epoch 17/30\n",
            "422/422 [==============================] - 1s 3ms/step - loss: 0.3120 - accuracy: 0.9122 - precision_19: 0.2061 - recall_19: 0.9949 - val_loss: 0.2569 - val_accuracy: 0.9272 - val_precision_19: 0.2070 - val_recall_19: 0.9957\n",
            "Epoch 18/30\n",
            "422/422 [==============================] - 1s 3ms/step - loss: 0.3095 - accuracy: 0.9130 - precision_19: 0.2059 - recall_19: 0.9950 - val_loss: 0.2556 - val_accuracy: 0.9268 - val_precision_19: 0.2066 - val_recall_19: 0.9955\n",
            "Epoch 19/30\n",
            "422/422 [==============================] - 1s 3ms/step - loss: 0.3073 - accuracy: 0.9137 - precision_19: 0.2058 - recall_19: 0.9951 - val_loss: 0.2542 - val_accuracy: 0.9288 - val_precision_19: 0.2056 - val_recall_19: 0.9955\n",
            "Epoch 20/30\n",
            "422/422 [==============================] - 1s 3ms/step - loss: 0.3050 - accuracy: 0.9141 - precision_19: 0.2055 - recall_19: 0.9952 - val_loss: 0.2521 - val_accuracy: 0.9288 - val_precision_19: 0.2060 - val_recall_19: 0.9960\n",
            "Epoch 21/30\n",
            "422/422 [==============================] - 1s 3ms/step - loss: 0.3031 - accuracy: 0.9145 - precision_19: 0.2054 - recall_19: 0.9951 - val_loss: 0.2511 - val_accuracy: 0.9290 - val_precision_19: 0.2053 - val_recall_19: 0.9958\n",
            "Epoch 22/30\n",
            "422/422 [==============================] - 1s 3ms/step - loss: 0.3013 - accuracy: 0.9151 - precision_19: 0.2052 - recall_19: 0.9953 - val_loss: 0.2504 - val_accuracy: 0.9292 - val_precision_19: 0.2058 - val_recall_19: 0.9957\n",
            "Epoch 23/30\n",
            "422/422 [==============================] - 1s 3ms/step - loss: 0.2996 - accuracy: 0.9161 - precision_19: 0.2049 - recall_19: 0.9953 - val_loss: 0.2497 - val_accuracy: 0.9305 - val_precision_19: 0.2049 - val_recall_19: 0.9960\n",
            "Epoch 24/30\n",
            "422/422 [==============================] - 1s 3ms/step - loss: 0.2980 - accuracy: 0.9160 - precision_19: 0.2048 - recall_19: 0.9954 - val_loss: 0.2483 - val_accuracy: 0.9307 - val_precision_19: 0.2049 - val_recall_19: 0.9958\n",
            "Epoch 25/30\n",
            "422/422 [==============================] - 1s 3ms/step - loss: 0.2965 - accuracy: 0.9169 - precision_19: 0.2046 - recall_19: 0.9954 - val_loss: 0.2480 - val_accuracy: 0.9293 - val_precision_19: 0.2044 - val_recall_19: 0.9957\n",
            "Epoch 26/30\n",
            "422/422 [==============================] - 1s 3ms/step - loss: 0.2951 - accuracy: 0.9172 - precision_19: 0.2045 - recall_19: 0.9955 - val_loss: 0.2463 - val_accuracy: 0.9313 - val_precision_19: 0.2050 - val_recall_19: 0.9962\n",
            "Epoch 27/30\n",
            "422/422 [==============================] - 1s 3ms/step - loss: 0.2939 - accuracy: 0.9179 - precision_19: 0.2042 - recall_19: 0.9954 - val_loss: 0.2457 - val_accuracy: 0.9313 - val_precision_19: 0.2046 - val_recall_19: 0.9960\n",
            "Epoch 28/30\n",
            "422/422 [==============================] - 1s 3ms/step - loss: 0.2926 - accuracy: 0.9181 - precision_19: 0.2042 - recall_19: 0.9955 - val_loss: 0.2452 - val_accuracy: 0.9322 - val_precision_19: 0.2037 - val_recall_19: 0.9962\n",
            "Epoch 29/30\n",
            "422/422 [==============================] - 1s 3ms/step - loss: 0.2914 - accuracy: 0.9186 - precision_19: 0.2040 - recall_19: 0.9955 - val_loss: 0.2444 - val_accuracy: 0.9315 - val_precision_19: 0.2034 - val_recall_19: 0.9962\n",
            "Epoch 30/30\n",
            "422/422 [==============================] - 1s 3ms/step - loss: 0.2902 - accuracy: 0.9189 - precision_19: 0.2038 - recall_19: 0.9956 - val_loss: 0.2436 - val_accuracy: 0.9315 - val_precision_19: 0.2044 - val_recall_19: 0.9965\n"
          ]
        },
        {
          "output_type": "execute_result",
          "data": {
            "text/plain": [
              "<keras.callbacks.History at 0x7ff4cf18b810>"
            ]
          },
          "metadata": {},
          "execution_count": 72
        }
      ]
    },
    {
      "cell_type": "code",
      "metadata": {
        "colab": {
          "base_uri": "https://localhost:8080/"
        },
        "id": "dwx9YE2Roqzn",
        "outputId": "8ca0df4b-9fb7-4f04-d731-1ed255b256b9"
      },
      "source": [
        "accuracy_class(model3)"
      ],
      "execution_count": null,
      "outputs": [
        {
          "output_type": "stream",
          "name": "stdout",
          "text": [
            "Acurácia por Classe\n",
            "Classe 0: 97.755102%\n",
            "Classe 1: 97.533040%\n",
            "Classe 2: 89.147287%\n",
            "Classe 3: 89.702970%\n",
            "Classe 4: 93.177189%\n",
            "Classe 5: 86.210762%\n",
            "Classe 6: 95.198330%\n",
            "Classe 7: 91.634241%\n",
            "Classe 8: 88.706366%\n",
            "Classe 9: 89.296333%\n"
          ]
        }
      ]
    },
    {
      "cell_type": "code",
      "metadata": {
        "colab": {
          "base_uri": "https://localhost:8080/"
        },
        "id": "CRJKVDvcosgc",
        "outputId": "fc800f7c-b7d8-49da-c3f9-cbee94944950"
      },
      "source": [
        "accuracy_total(model3)"
      ],
      "execution_count": null,
      "outputs": [
        {
          "output_type": "stream",
          "name": "stdout",
          "text": [
            "Acurácia Total: 0.919400\n",
            "Precision:      0.204384\n",
            "Recall:         0.994900\n"
          ]
        }
      ]
    },
    {
      "cell_type": "markdown",
      "metadata": {
        "id": "kNpQtOqRWVjA"
      },
      "source": [
        "Percebemos que os valores diminuíram após usar essa função, isso acontece porque a função sigmoide é melhor para classificação binária, já que ela considera os valores de forma independente, por isso a precisão ficou muito baixa."
      ]
    },
    {
      "cell_type": "markdown",
      "metadata": {
        "id": "LAhroeM6pTBh"
      },
      "source": [
        "## Quarta versão: MLP\n",
        "\n",
        "Nesse experimento, nós adicionamos mais uma hidden layer, uma de quinze neurônios."
      ]
    },
    {
      "cell_type": "code",
      "metadata": {
        "colab": {
          "base_uri": "https://localhost:8080/"
        },
        "id": "V0m9kLbtpUY5",
        "outputId": "4806c832-db4f-43ad-9113-a93172f79640"
      },
      "source": [
        "model4 = keras.Sequential([\n",
        "    layers.Flatten(input_shape=(28, 28, 1)),\n",
        "    layers.Dense(30),\n",
        "    layers.Dense(15),\n",
        "    layers.Dense(10, activation=\"softmax\") \n",
        "])\n",
        "\n",
        "model4.compile(loss=\"categorical_crossentropy\", optimizer=SGD(), metrics=[\"accuracy\", keras.metrics.Precision(), keras.metrics.Recall()])\n",
        "\n",
        "model4.summary()"
      ],
      "execution_count": null,
      "outputs": [
        {
          "output_type": "stream",
          "name": "stdout",
          "text": [
            "Model: \"sequential\"\n",
            "_________________________________________________________________\n",
            "Layer (type)                 Output Shape              Param #   \n",
            "=================================================================\n",
            "flatten (Flatten)            (None, 784)               0         \n",
            "_________________________________________________________________\n",
            "dense (Dense)                (None, 30)                23550     \n",
            "_________________________________________________________________\n",
            "dense_1 (Dense)              (None, 15)                465       \n",
            "_________________________________________________________________\n",
            "dense_2 (Dense)              (None, 10)                160       \n",
            "=================================================================\n",
            "Total params: 24,175\n",
            "Trainable params: 24,175\n",
            "Non-trainable params: 0\n",
            "_________________________________________________________________\n"
          ]
        }
      ]
    },
    {
      "cell_type": "code",
      "metadata": {
        "colab": {
          "base_uri": "https://localhost:8080/"
        },
        "id": "-_sR2LCkpgp5",
        "outputId": "bf26ef06-77bd-452d-93d7-068538c27fea"
      },
      "source": [
        "model4.fit(x_train, y_train, batch_size=10, epochs=30, validation_split=0.1) # mudou a função de ativação e mantivemos os outros parametros"
      ],
      "execution_count": null,
      "outputs": [
        {
          "output_type": "stream",
          "name": "stdout",
          "text": [
            "Epoch 1/30\n",
            "5400/5400 [==============================] - 10s 2ms/step - loss: 0.4585 - accuracy: 0.8703 - precision: 0.9247 - recall: 0.8157 - val_loss: 0.2765 - val_accuracy: 0.9172 - val_precision: 0.9375 - val_recall: 0.9043\n",
            "Epoch 2/30\n",
            "5400/5400 [==============================] - 9s 2ms/step - loss: 0.3202 - accuracy: 0.9084 - precision: 0.9296 - recall: 0.8917 - val_loss: 0.2516 - val_accuracy: 0.9252 - val_precision: 0.9435 - val_recall: 0.9123\n",
            "Epoch 3/30\n",
            "5400/5400 [==============================] - 9s 2ms/step - loss: 0.3038 - accuracy: 0.9136 - precision: 0.9320 - recall: 0.8986 - val_loss: 0.2512 - val_accuracy: 0.9282 - val_precision: 0.9446 - val_recall: 0.9178\n",
            "Epoch 4/30\n",
            "5400/5400 [==============================] - 10s 2ms/step - loss: 0.2957 - accuracy: 0.9164 - precision: 0.9331 - recall: 0.9030 - val_loss: 0.2563 - val_accuracy: 0.9273 - val_precision: 0.9411 - val_recall: 0.9140\n",
            "Epoch 5/30\n",
            "5400/5400 [==============================] - 10s 2ms/step - loss: 0.2892 - accuracy: 0.9179 - precision: 0.9345 - recall: 0.9043 - val_loss: 0.2397 - val_accuracy: 0.9315 - val_precision: 0.9473 - val_recall: 0.9205\n",
            "Epoch 6/30\n",
            "5400/5400 [==============================] - 11s 2ms/step - loss: 0.2860 - accuracy: 0.9194 - precision: 0.9352 - recall: 0.9053 - val_loss: 0.2358 - val_accuracy: 0.9343 - val_precision: 0.9499 - val_recall: 0.9220\n",
            "Epoch 7/30\n",
            "5400/5400 [==============================] - 9s 2ms/step - loss: 0.2829 - accuracy: 0.9198 - precision: 0.9357 - recall: 0.9065 - val_loss: 0.2483 - val_accuracy: 0.9282 - val_precision: 0.9417 - val_recall: 0.9177\n",
            "Epoch 8/30\n",
            "5400/5400 [==============================] - 9s 2ms/step - loss: 0.2789 - accuracy: 0.9225 - precision: 0.9375 - recall: 0.9087 - val_loss: 0.2429 - val_accuracy: 0.9323 - val_precision: 0.9461 - val_recall: 0.9207\n",
            "Epoch 9/30\n",
            "5400/5400 [==============================] - 9s 2ms/step - loss: 0.2771 - accuracy: 0.9215 - precision: 0.9367 - recall: 0.9084 - val_loss: 0.2388 - val_accuracy: 0.9305 - val_precision: 0.9447 - val_recall: 0.9190\n",
            "Epoch 10/30\n",
            "5400/5400 [==============================] - 8s 2ms/step - loss: 0.2745 - accuracy: 0.9234 - precision: 0.9389 - recall: 0.9103 - val_loss: 0.2455 - val_accuracy: 0.9308 - val_precision: 0.9436 - val_recall: 0.9177\n",
            "Epoch 11/30\n",
            "5400/5400 [==============================] - 9s 2ms/step - loss: 0.2737 - accuracy: 0.9230 - precision: 0.9386 - recall: 0.9111 - val_loss: 0.2331 - val_accuracy: 0.9348 - val_precision: 0.9490 - val_recall: 0.9242\n",
            "Epoch 12/30\n",
            "5400/5400 [==============================] - 9s 2ms/step - loss: 0.2717 - accuracy: 0.9241 - precision: 0.9390 - recall: 0.9110 - val_loss: 0.2480 - val_accuracy: 0.9285 - val_precision: 0.9425 - val_recall: 0.9187\n",
            "Epoch 13/30\n",
            "5400/5400 [==============================] - 9s 2ms/step - loss: 0.2702 - accuracy: 0.9236 - precision: 0.9389 - recall: 0.9117 - val_loss: 0.2582 - val_accuracy: 0.9245 - val_precision: 0.9366 - val_recall: 0.9167\n",
            "Epoch 14/30\n",
            "5400/5400 [==============================] - 9s 2ms/step - loss: 0.2691 - accuracy: 0.9244 - precision: 0.9390 - recall: 0.9115 - val_loss: 0.2488 - val_accuracy: 0.9317 - val_precision: 0.9448 - val_recall: 0.9210\n",
            "Epoch 15/30\n",
            "5400/5400 [==============================] - 9s 2ms/step - loss: 0.2686 - accuracy: 0.9238 - precision: 0.9383 - recall: 0.9118 - val_loss: 0.2429 - val_accuracy: 0.9318 - val_precision: 0.9449 - val_recall: 0.9208\n",
            "Epoch 16/30\n",
            "5400/5400 [==============================] - 9s 2ms/step - loss: 0.2671 - accuracy: 0.9253 - precision: 0.9398 - recall: 0.9124 - val_loss: 0.2350 - val_accuracy: 0.9357 - val_precision: 0.9504 - val_recall: 0.9265\n",
            "Epoch 17/30\n",
            "5400/5400 [==============================] - 10s 2ms/step - loss: 0.2661 - accuracy: 0.9256 - precision: 0.9397 - recall: 0.9129 - val_loss: 0.2395 - val_accuracy: 0.9342 - val_precision: 0.9475 - val_recall: 0.9265\n",
            "Epoch 18/30\n",
            "5400/5400 [==============================] - 10s 2ms/step - loss: 0.2654 - accuracy: 0.9255 - precision: 0.9393 - recall: 0.9130 - val_loss: 0.2403 - val_accuracy: 0.9312 - val_precision: 0.9434 - val_recall: 0.9223\n",
            "Epoch 19/30\n",
            "5400/5400 [==============================] - 10s 2ms/step - loss: 0.2644 - accuracy: 0.9260 - precision: 0.9401 - recall: 0.9134 - val_loss: 0.2362 - val_accuracy: 0.9363 - val_precision: 0.9485 - val_recall: 0.9267\n",
            "Epoch 20/30\n",
            "5400/5400 [==============================] - 10s 2ms/step - loss: 0.2639 - accuracy: 0.9260 - precision: 0.9395 - recall: 0.9136 - val_loss: 0.2370 - val_accuracy: 0.9358 - val_precision: 0.9471 - val_recall: 0.9258\n",
            "Epoch 21/30\n",
            "5400/5400 [==============================] - 10s 2ms/step - loss: 0.2629 - accuracy: 0.9258 - precision: 0.9404 - recall: 0.9133 - val_loss: 0.2377 - val_accuracy: 0.9332 - val_precision: 0.9449 - val_recall: 0.9238\n",
            "Epoch 22/30\n",
            "5400/5400 [==============================] - 10s 2ms/step - loss: 0.2618 - accuracy: 0.9259 - precision: 0.9398 - recall: 0.9134 - val_loss: 0.2389 - val_accuracy: 0.9348 - val_precision: 0.9493 - val_recall: 0.9247\n",
            "Epoch 23/30\n",
            "5400/5400 [==============================] - 10s 2ms/step - loss: 0.2615 - accuracy: 0.9270 - precision: 0.9410 - recall: 0.9149 - val_loss: 0.2426 - val_accuracy: 0.9333 - val_precision: 0.9443 - val_recall: 0.9247\n",
            "Epoch 24/30\n",
            "5400/5400 [==============================] - 10s 2ms/step - loss: 0.2611 - accuracy: 0.9266 - precision: 0.9404 - recall: 0.9139 - val_loss: 0.2388 - val_accuracy: 0.9325 - val_precision: 0.9465 - val_recall: 0.9233\n",
            "Epoch 25/30\n",
            "5400/5400 [==============================] - 10s 2ms/step - loss: 0.2595 - accuracy: 0.9279 - precision: 0.9423 - recall: 0.9158 - val_loss: 0.2463 - val_accuracy: 0.9320 - val_precision: 0.9468 - val_recall: 0.9232\n",
            "Epoch 26/30\n",
            "5400/5400 [==============================] - 11s 2ms/step - loss: 0.2586 - accuracy: 0.9270 - precision: 0.9414 - recall: 0.9151 - val_loss: 0.2396 - val_accuracy: 0.9350 - val_precision: 0.9488 - val_recall: 0.9272\n",
            "Epoch 27/30\n",
            "5400/5400 [==============================] - 10s 2ms/step - loss: 0.2588 - accuracy: 0.9277 - precision: 0.9410 - recall: 0.9159 - val_loss: 0.2386 - val_accuracy: 0.9362 - val_precision: 0.9490 - val_recall: 0.9248\n",
            "Epoch 28/30\n",
            "5400/5400 [==============================] - 9s 2ms/step - loss: 0.2583 - accuracy: 0.9281 - precision: 0.9422 - recall: 0.9164 - val_loss: 0.2410 - val_accuracy: 0.9322 - val_precision: 0.9447 - val_recall: 0.9220\n",
            "Epoch 29/30\n",
            "5400/5400 [==============================] - 9s 2ms/step - loss: 0.2571 - accuracy: 0.9280 - precision: 0.9415 - recall: 0.9159 - val_loss: 0.2380 - val_accuracy: 0.9323 - val_precision: 0.9441 - val_recall: 0.9232\n",
            "Epoch 30/30\n",
            "5400/5400 [==============================] - 10s 2ms/step - loss: 0.2576 - accuracy: 0.9266 - precision: 0.9407 - recall: 0.9142 - val_loss: 0.2378 - val_accuracy: 0.9362 - val_precision: 0.9464 - val_recall: 0.9273\n"
          ]
        },
        {
          "output_type": "execute_result",
          "data": {
            "text/plain": [
              "<keras.callbacks.History at 0x7fcce856ea50>"
            ]
          },
          "metadata": {},
          "execution_count": 7
        }
      ]
    },
    {
      "cell_type": "code",
      "metadata": {
        "colab": {
          "base_uri": "https://localhost:8080/"
        },
        "id": "7ddXUCZ3pzdf",
        "outputId": "9c325faa-1098-4575-f032-d464a4afc682"
      },
      "source": [
        "accuracy_class(model4)"
      ],
      "execution_count": null,
      "outputs": [
        {
          "output_type": "stream",
          "name": "stdout",
          "text": [
            "Acurácia por Classe\n",
            "Classe 0: 97.142857%\n",
            "Classe 1: 98.237885%\n",
            "Classe 2: 90.019380%\n",
            "Classe 3: 90.495050%\n",
            "Classe 4: 92.973523%\n",
            "Classe 5: 86.547085%\n",
            "Classe 6: 96.033403%\n",
            "Classe 7: 92.023346%\n",
            "Classe 8: 86.652977%\n",
            "Classe 9: 91.774034%\n"
          ]
        }
      ]
    },
    {
      "cell_type": "code",
      "metadata": {
        "colab": {
          "base_uri": "https://localhost:8080/"
        },
        "id": "nOF6yFQCp3NL",
        "outputId": "39abb86d-d58a-4d49-eba4-c8dcca025b95"
      },
      "source": [
        "accuracy_total(model4) "
      ],
      "execution_count": null,
      "outputs": [
        {
          "output_type": "stream",
          "name": "stdout",
          "text": [
            "Acurácia Total: 0.923100\n",
            "Precision:      0.936744\n",
            "Recall:         0.913700\n"
          ]
        }
      ]
    },
    {
      "cell_type": "markdown",
      "metadata": {
        "id": "bebx0X6tXWIF"
      },
      "source": [
        "A camada a mais fez diminuir a acurácia em 0.09% e a precision também diminiu em 0.30%, porém o recall aumentou em 0.11%."
      ]
    },
    {
      "cell_type": "markdown",
      "metadata": {
        "id": "cSxNpk5oqF6X"
      },
      "source": [
        "## Quinta versão: MLP\n",
        "Nesse experimento, nós decidimos aumentar significativamente o número de neurônios em cada hidden layer."
      ]
    },
    {
      "cell_type": "code",
      "metadata": {
        "colab": {
          "base_uri": "https://localhost:8080/"
        },
        "id": "cw9iuAa5qH8v",
        "outputId": "63792a07-4870-441c-953d-98a9f3820e75"
      },
      "source": [
        "model5 = keras.Sequential([\n",
        "    layers.Flatten(input_shape=(28, 28, 1)),\n",
        "    layers.Dense(500),\n",
        "    layers.Dense(250),\n",
        "    layers.Dense(10, activation=\"softmax\")\n",
        "])\n",
        "\n",
        "model5.compile(loss=\"categorical_crossentropy\", optimizer=SGD(), metrics=[\"accuracy\", keras.metrics.Precision(), keras.metrics.Recall()])\n",
        "\n",
        "model5.summary()"
      ],
      "execution_count": null,
      "outputs": [
        {
          "output_type": "stream",
          "name": "stdout",
          "text": [
            "Model: \"sequential_1\"\n",
            "_________________________________________________________________\n",
            "Layer (type)                 Output Shape              Param #   \n",
            "=================================================================\n",
            "flatten_1 (Flatten)          (None, 784)               0         \n",
            "_________________________________________________________________\n",
            "dense_3 (Dense)              (None, 500)               392500    \n",
            "_________________________________________________________________\n",
            "dense_4 (Dense)              (None, 250)               125250    \n",
            "_________________________________________________________________\n",
            "dense_5 (Dense)              (None, 10)                2510      \n",
            "=================================================================\n",
            "Total params: 520,260\n",
            "Trainable params: 520,260\n",
            "Non-trainable params: 0\n",
            "_________________________________________________________________\n"
          ]
        }
      ]
    },
    {
      "cell_type": "code",
      "metadata": {
        "colab": {
          "base_uri": "https://localhost:8080/"
        },
        "id": "CfBuDGDvqsVS",
        "outputId": "5c699acb-b016-4e4e-c0c8-8f29e391d969"
      },
      "source": [
        "model5.fit(x_train, y_train, batch_size=10, epochs=30, validation_split=0.1) "
      ],
      "execution_count": null,
      "outputs": [
        {
          "output_type": "stream",
          "name": "stdout",
          "text": [
            "Epoch 1/30\n",
            "5400/5400 [==============================] - 28s 5ms/step - loss: 0.3891 - accuracy: 0.8879 - precision_1: 0.9249 - recall_1: 0.8514 - val_loss: 0.2655 - val_accuracy: 0.9238 - val_precision_1: 0.9419 - val_recall_1: 0.9103\n",
            "Epoch 2/30\n",
            "5400/5400 [==============================] - 28s 5ms/step - loss: 0.3123 - accuracy: 0.9118 - precision_1: 0.9303 - recall_1: 0.8956 - val_loss: 0.2701 - val_accuracy: 0.9238 - val_precision_1: 0.9397 - val_recall_1: 0.9117\n",
            "Epoch 3/30\n",
            "5400/5400 [==============================] - 26s 5ms/step - loss: 0.2995 - accuracy: 0.9159 - precision_1: 0.9326 - recall_1: 0.9014 - val_loss: 0.2464 - val_accuracy: 0.9300 - val_precision_1: 0.9460 - val_recall_1: 0.9200\n",
            "Epoch 4/30\n",
            "5400/5400 [==============================] - 24s 4ms/step - loss: 0.2928 - accuracy: 0.9183 - precision_1: 0.9335 - recall_1: 0.9042 - val_loss: 0.2512 - val_accuracy: 0.9282 - val_precision_1: 0.9423 - val_recall_1: 0.9152\n",
            "Epoch 5/30\n",
            "5400/5400 [==============================] - 25s 5ms/step - loss: 0.2879 - accuracy: 0.9187 - precision_1: 0.9343 - recall_1: 0.9052 - val_loss: 0.2577 - val_accuracy: 0.9275 - val_precision_1: 0.9415 - val_recall_1: 0.9168\n",
            "Epoch 6/30\n",
            "5400/5400 [==============================] - 28s 5ms/step - loss: 0.2837 - accuracy: 0.9212 - precision_1: 0.9365 - recall_1: 0.9078 - val_loss: 0.2492 - val_accuracy: 0.9315 - val_precision_1: 0.9428 - val_recall_1: 0.9177\n",
            "Epoch 7/30\n",
            "5400/5400 [==============================] - 26s 5ms/step - loss: 0.2804 - accuracy: 0.9207 - precision_1: 0.9354 - recall_1: 0.9079 - val_loss: 0.2388 - val_accuracy: 0.9357 - val_precision_1: 0.9487 - val_recall_1: 0.9238\n",
            "Epoch 8/30\n",
            "5400/5400 [==============================] - 27s 5ms/step - loss: 0.2783 - accuracy: 0.9217 - precision_1: 0.9373 - recall_1: 0.9095 - val_loss: 0.2432 - val_accuracy: 0.9327 - val_precision_1: 0.9477 - val_recall_1: 0.9213\n",
            "Epoch 9/30\n",
            "5400/5400 [==============================] - 25s 5ms/step - loss: 0.2770 - accuracy: 0.9222 - precision_1: 0.9373 - recall_1: 0.9103 - val_loss: 0.2413 - val_accuracy: 0.9302 - val_precision_1: 0.9441 - val_recall_1: 0.9202\n",
            "Epoch 10/30\n",
            "5400/5400 [==============================] - 25s 5ms/step - loss: 0.2743 - accuracy: 0.9229 - precision_1: 0.9378 - recall_1: 0.9104 - val_loss: 0.2402 - val_accuracy: 0.9332 - val_precision_1: 0.9449 - val_recall_1: 0.9230\n",
            "Epoch 11/30\n",
            "5400/5400 [==============================] - 25s 5ms/step - loss: 0.2726 - accuracy: 0.9226 - precision_1: 0.9379 - recall_1: 0.9104 - val_loss: 0.2384 - val_accuracy: 0.9352 - val_precision_1: 0.9480 - val_recall_1: 0.9233\n",
            "Epoch 12/30\n",
            "5400/5400 [==============================] - 25s 5ms/step - loss: 0.2721 - accuracy: 0.9232 - precision_1: 0.9383 - recall_1: 0.9113 - val_loss: 0.2447 - val_accuracy: 0.9327 - val_precision_1: 0.9430 - val_recall_1: 0.9217\n",
            "Epoch 13/30\n",
            "5400/5400 [==============================] - 27s 5ms/step - loss: 0.2695 - accuracy: 0.9240 - precision_1: 0.9388 - recall_1: 0.9121 - val_loss: 0.2448 - val_accuracy: 0.9307 - val_precision_1: 0.9425 - val_recall_1: 0.9210\n",
            "Epoch 14/30\n",
            "5400/5400 [==============================] - 26s 5ms/step - loss: 0.2686 - accuracy: 0.9245 - precision_1: 0.9391 - recall_1: 0.9132 - val_loss: 0.2439 - val_accuracy: 0.9322 - val_precision_1: 0.9444 - val_recall_1: 0.9235\n",
            "Epoch 15/30\n",
            "5400/5400 [==============================] - 27s 5ms/step - loss: 0.2674 - accuracy: 0.9246 - precision_1: 0.9387 - recall_1: 0.9126 - val_loss: 0.2431 - val_accuracy: 0.9347 - val_precision_1: 0.9464 - val_recall_1: 0.9245\n",
            "Epoch 16/30\n",
            "5400/5400 [==============================] - 27s 5ms/step - loss: 0.2675 - accuracy: 0.9251 - precision_1: 0.9392 - recall_1: 0.9129 - val_loss: 0.2485 - val_accuracy: 0.9312 - val_precision_1: 0.9434 - val_recall_1: 0.9230\n",
            "Epoch 17/30\n",
            "5400/5400 [==============================] - 28s 5ms/step - loss: 0.2651 - accuracy: 0.9253 - precision_1: 0.9390 - recall_1: 0.9141 - val_loss: 0.2414 - val_accuracy: 0.9333 - val_precision_1: 0.9470 - val_recall_1: 0.9237\n",
            "Epoch 18/30\n",
            "5400/5400 [==============================] - 28s 5ms/step - loss: 0.2648 - accuracy: 0.9258 - precision_1: 0.9396 - recall_1: 0.9138 - val_loss: 0.2423 - val_accuracy: 0.9327 - val_precision_1: 0.9439 - val_recall_1: 0.9225\n",
            "Epoch 19/30\n",
            "5400/5400 [==============================] - 24s 4ms/step - loss: 0.2649 - accuracy: 0.9241 - precision_1: 0.9395 - recall_1: 0.9126 - val_loss: 0.2438 - val_accuracy: 0.9310 - val_precision_1: 0.9440 - val_recall_1: 0.9212\n",
            "Epoch 20/30\n",
            "5400/5400 [==============================] - 28s 5ms/step - loss: 0.2629 - accuracy: 0.9268 - precision_1: 0.9406 - recall_1: 0.9139 - val_loss: 0.2380 - val_accuracy: 0.9343 - val_precision_1: 0.9463 - val_recall_1: 0.9245\n",
            "Epoch 21/30\n",
            "5400/5400 [==============================] - 27s 5ms/step - loss: 0.2629 - accuracy: 0.9260 - precision_1: 0.9405 - recall_1: 0.9141 - val_loss: 0.2460 - val_accuracy: 0.9317 - val_precision_1: 0.9430 - val_recall_1: 0.9203\n",
            "Epoch 22/30\n",
            "5400/5400 [==============================] - 26s 5ms/step - loss: 0.2621 - accuracy: 0.9263 - precision_1: 0.9408 - recall_1: 0.9148 - val_loss: 0.2383 - val_accuracy: 0.9368 - val_precision_1: 0.9482 - val_recall_1: 0.9268\n",
            "Epoch 23/30\n",
            "5400/5400 [==============================] - 25s 5ms/step - loss: 0.2623 - accuracy: 0.9266 - precision_1: 0.9410 - recall_1: 0.9149 - val_loss: 0.2475 - val_accuracy: 0.9308 - val_precision_1: 0.9437 - val_recall_1: 0.9213\n",
            "Epoch 24/30\n",
            "5400/5400 [==============================] - 26s 5ms/step - loss: 0.2604 - accuracy: 0.9279 - precision_1: 0.9408 - recall_1: 0.9146 - val_loss: 0.2501 - val_accuracy: 0.9302 - val_precision_1: 0.9422 - val_recall_1: 0.9205\n",
            "Epoch 25/30\n",
            "5400/5400 [==============================] - 26s 5ms/step - loss: 0.2605 - accuracy: 0.9266 - precision_1: 0.9402 - recall_1: 0.9147 - val_loss: 0.2443 - val_accuracy: 0.9320 - val_precision_1: 0.9437 - val_recall_1: 0.9197\n",
            "Epoch 26/30\n",
            "5400/5400 [==============================] - 27s 5ms/step - loss: 0.2604 - accuracy: 0.9267 - precision_1: 0.9410 - recall_1: 0.9151 - val_loss: 0.2382 - val_accuracy: 0.9343 - val_precision_1: 0.9448 - val_recall_1: 0.9243\n",
            "Epoch 27/30\n",
            "5400/5400 [==============================] - 28s 5ms/step - loss: 0.2590 - accuracy: 0.9279 - precision_1: 0.9418 - recall_1: 0.9160 - val_loss: 0.2372 - val_accuracy: 0.9332 - val_precision_1: 0.9457 - val_recall_1: 0.9258\n",
            "Epoch 28/30\n",
            "5400/5400 [==============================] - 29s 5ms/step - loss: 0.2588 - accuracy: 0.9274 - precision_1: 0.9409 - recall_1: 0.9158 - val_loss: 0.2452 - val_accuracy: 0.9307 - val_precision_1: 0.9423 - val_recall_1: 0.9222\n",
            "Epoch 29/30\n",
            "5400/5400 [==============================] - 28s 5ms/step - loss: 0.2579 - accuracy: 0.9284 - precision_1: 0.9417 - recall_1: 0.9167 - val_loss: 0.2372 - val_accuracy: 0.9348 - val_precision_1: 0.9447 - val_recall_1: 0.9245\n",
            "Epoch 30/30\n",
            "5400/5400 [==============================] - 30s 6ms/step - loss: 0.2574 - accuracy: 0.9274 - precision_1: 0.9411 - recall_1: 0.9158 - val_loss: 0.2393 - val_accuracy: 0.9355 - val_precision_1: 0.9477 - val_recall_1: 0.9270\n"
          ]
        },
        {
          "output_type": "execute_result",
          "data": {
            "text/plain": [
              "<keras.callbacks.History at 0x7fcce835c390>"
            ]
          },
          "metadata": {},
          "execution_count": 11
        }
      ]
    },
    {
      "cell_type": "code",
      "metadata": {
        "colab": {
          "base_uri": "https://localhost:8080/"
        },
        "id": "CdQwKJf0rHyS",
        "outputId": "550d3164-a8b3-4332-ab4d-20be02f7057d"
      },
      "source": [
        "accuracy_class(model5)"
      ],
      "execution_count": null,
      "outputs": [
        {
          "output_type": "stream",
          "name": "stdout",
          "text": [
            "Acurácia por Classe\n",
            "Classe 0: 96.530612%\n",
            "Classe 1: 97.533040%\n",
            "Classe 2: 89.728682%\n",
            "Classe 3: 92.475248%\n",
            "Classe 4: 92.260692%\n",
            "Classe 5: 86.995516%\n",
            "Classe 6: 93.423800%\n",
            "Classe 7: 93.093385%\n",
            "Classe 8: 89.630390%\n",
            "Classe 9: 91.080278%\n"
          ]
        }
      ]
    },
    {
      "cell_type": "code",
      "metadata": {
        "colab": {
          "base_uri": "https://localhost:8080/"
        },
        "id": "ojflPCCNrNas",
        "outputId": "5cd08c92-1d6d-4d8a-ca6d-5f199f3dbe41"
      },
      "source": [
        "accuracy_total(model5) "
      ],
      "execution_count": null,
      "outputs": [
        {
          "output_type": "stream",
          "name": "stdout",
          "text": [
            "Acurácia Total: 0.923900\n",
            "Precision:      0.937109\n",
            "Recall:         0.913400\n"
          ]
        }
      ]
    },
    {
      "cell_type": "markdown",
      "metadata": {
        "id": "tgb7bla6dn6-"
      },
      "source": [
        "Percebemos que a acurácia total e a precisão diminuíram, porém o recall aumentou."
      ]
    },
    {
      "cell_type": "markdown",
      "metadata": {
        "id": "7CJxuzk4sh2o"
      },
      "source": [
        "## Sexta versão: MLP\n",
        "Nós percebemos que o processo estava muito lento e não estava necessariamente ganhando muito desempenho nos resultados, então nós decidimos aumentar novamente o batch size para 128 e aumentamos o learning rate e diminuímos o número de épocas."
      ]
    },
    {
      "cell_type": "code",
      "metadata": {
        "colab": {
          "base_uri": "https://localhost:8080/"
        },
        "id": "YkSYxdvxrkkW",
        "outputId": "2f2c2107-852b-4785-f4a7-ea603cffa5a8"
      },
      "source": [
        "model6 = keras.Sequential([\n",
        "    layers.Flatten(input_shape=(28, 28, 1)),\n",
        "    layers.Dense(500),\n",
        "    layers.Dense(250),\n",
        "    layers.Dense(10, activation=\"softmax\")\n",
        "])\n",
        "\n",
        "model6.compile(loss=\"categorical_crossentropy\", optimizer=SGD(0.2), metrics=[\"accuracy\", keras.metrics.Precision(), keras.metrics.Recall()]) # + learning-rate\n",
        "\n",
        "model6.summary()"
      ],
      "execution_count": null,
      "outputs": [
        {
          "output_type": "stream",
          "name": "stdout",
          "text": [
            "Model: \"sequential_2\"\n",
            "_________________________________________________________________\n",
            "Layer (type)                 Output Shape              Param #   \n",
            "=================================================================\n",
            "flatten_2 (Flatten)          (None, 784)               0         \n",
            "_________________________________________________________________\n",
            "dense_6 (Dense)              (None, 500)               392500    \n",
            "_________________________________________________________________\n",
            "dense_7 (Dense)              (None, 250)               125250    \n",
            "_________________________________________________________________\n",
            "dense_8 (Dense)              (None, 10)                2510      \n",
            "=================================================================\n",
            "Total params: 520,260\n",
            "Trainable params: 520,260\n",
            "Non-trainable params: 0\n",
            "_________________________________________________________________\n"
          ]
        }
      ]
    },
    {
      "cell_type": "code",
      "metadata": {
        "colab": {
          "base_uri": "https://localhost:8080/"
        },
        "id": "FpwLaCRgsjIw",
        "outputId": "92793bf7-f061-4e36-e2f6-d57413105c52"
      },
      "source": [
        "model6.fit(x_train, y_train, batch_size=128, epochs=10, validation_split=0.1)"
      ],
      "execution_count": null,
      "outputs": [
        {
          "output_type": "stream",
          "name": "stdout",
          "text": [
            "Epoch 1/10\n",
            "422/422 [==============================] - 6s 12ms/step - loss: 0.4036 - accuracy: 0.8826 - precision_2: 0.9158 - recall_2: 0.8536 - val_loss: 0.2731 - val_accuracy: 0.9242 - val_precision_2: 0.9406 - val_recall_2: 0.9075\n",
            "Epoch 2/10\n",
            "422/422 [==============================] - 5s 12ms/step - loss: 0.3295 - accuracy: 0.9053 - precision_2: 0.9240 - recall_2: 0.8897 - val_loss: 0.2665 - val_accuracy: 0.9218 - val_precision_2: 0.9383 - val_recall_2: 0.9093\n",
            "Epoch 3/10\n",
            "422/422 [==============================] - 5s 12ms/step - loss: 0.3129 - accuracy: 0.9110 - precision_2: 0.9287 - recall_2: 0.8965 - val_loss: 0.2426 - val_accuracy: 0.9307 - val_precision_2: 0.9482 - val_recall_2: 0.9207\n",
            "Epoch 4/10\n",
            "422/422 [==============================] - 5s 12ms/step - loss: 0.3049 - accuracy: 0.9136 - precision_2: 0.9299 - recall_2: 0.8994 - val_loss: 0.2769 - val_accuracy: 0.9147 - val_precision_2: 0.9320 - val_recall_2: 0.9025\n",
            "Epoch 5/10\n",
            "422/422 [==============================] - 5s 12ms/step - loss: 0.3004 - accuracy: 0.9154 - precision_2: 0.9316 - recall_2: 0.9016 - val_loss: 0.2507 - val_accuracy: 0.9323 - val_precision_2: 0.9462 - val_recall_2: 0.9183\n",
            "Epoch 6/10\n",
            "422/422 [==============================] - 5s 12ms/step - loss: 0.2947 - accuracy: 0.9164 - precision_2: 0.9324 - recall_2: 0.9031 - val_loss: 0.2710 - val_accuracy: 0.9265 - val_precision_2: 0.9402 - val_recall_2: 0.9145\n",
            "Epoch 7/10\n",
            "422/422 [==============================] - 5s 13ms/step - loss: 0.2911 - accuracy: 0.9177 - precision_2: 0.9334 - recall_2: 0.9042 - val_loss: 0.2573 - val_accuracy: 0.9290 - val_precision_2: 0.9428 - val_recall_2: 0.9202\n",
            "Epoch 8/10\n",
            "422/422 [==============================] - 5s 13ms/step - loss: 0.2900 - accuracy: 0.9171 - precision_2: 0.9331 - recall_2: 0.9044 - val_loss: 0.2570 - val_accuracy: 0.9278 - val_precision_2: 0.9432 - val_recall_2: 0.9137\n",
            "Epoch 9/10\n",
            "422/422 [==============================] - 5s 12ms/step - loss: 0.2868 - accuracy: 0.9190 - precision_2: 0.9352 - recall_2: 0.9065 - val_loss: 0.2615 - val_accuracy: 0.9210 - val_precision_2: 0.9362 - val_recall_2: 0.9120\n",
            "Epoch 10/10\n",
            "422/422 [==============================] - 5s 12ms/step - loss: 0.2843 - accuracy: 0.9202 - precision_2: 0.9355 - recall_2: 0.9071 - val_loss: 0.2585 - val_accuracy: 0.9265 - val_precision_2: 0.9378 - val_recall_2: 0.9153\n"
          ]
        },
        {
          "output_type": "execute_result",
          "data": {
            "text/plain": [
              "<keras.callbacks.History at 0x7fcce858dc50>"
            ]
          },
          "metadata": {},
          "execution_count": 15
        }
      ]
    },
    {
      "cell_type": "code",
      "metadata": {
        "colab": {
          "base_uri": "https://localhost:8080/"
        },
        "id": "cIi2uuzZtVlv",
        "outputId": "cbabdcc5-e227-4b85-d32d-5d1e46f4c82d"
      },
      "source": [
        "accuracy_class(model6)"
      ],
      "execution_count": null,
      "outputs": [
        {
          "output_type": "stream",
          "name": "stdout",
          "text": [
            "Acurácia por Classe\n",
            "Classe 0: 96.326531%\n",
            "Classe 1: 98.325991%\n",
            "Classe 2: 93.604651%\n",
            "Classe 3: 88.514851%\n",
            "Classe 4: 88.187373%\n",
            "Classe 5: 84.417040%\n",
            "Classe 6: 94.676409%\n",
            "Classe 7: 90.369650%\n",
            "Classe 8: 88.193018%\n",
            "Classe 9: 93.855302%\n"
          ]
        }
      ]
    },
    {
      "cell_type": "code",
      "metadata": {
        "colab": {
          "base_uri": "https://localhost:8080/"
        },
        "id": "Fu3SwGvXtZ0L",
        "outputId": "6d8323f9-cbfe-4bef-83a0-03c0338040fd"
      },
      "source": [
        "accuracy_total(model6)"
      ],
      "execution_count": null,
      "outputs": [
        {
          "output_type": "stream",
          "name": "stdout",
          "text": [
            "Acurácia Total: 0.918100\n",
            "Precision:      0.935022\n",
            "Recall:         0.908000\n"
          ]
        }
      ]
    },
    {
      "cell_type": "markdown",
      "metadata": {
        "id": "hFBQRMn9eZY2"
      },
      "source": [
        "Esse experimento não deu muito certo, e tanto a acurácia total, quanto a precisão e recall diminuíram."
      ]
    },
    {
      "cell_type": "markdown",
      "metadata": {
        "id": "3pm2HALxtuSK"
      },
      "source": [
        "## Sétima versão: MLP\n",
        "Nesse experimento, nós utilizamos o dropout, que é uma técnica de regularização para reduzir overfit e otimizar nossa rede, ele ignora aleatoriamente neurônios da camada indicada."
      ]
    },
    {
      "cell_type": "code",
      "metadata": {
        "colab": {
          "base_uri": "https://localhost:8080/"
        },
        "id": "d6Kmcec7twlI",
        "outputId": "40b37f34-3888-48ba-c82f-f433fe80904d"
      },
      "source": [
        "model7 = keras.Sequential([\n",
        "    layers.Flatten(input_shape=(28, 28, 1)),\n",
        "    layers.Dropout(0.1),\n",
        "    layers.Dense(500),\n",
        "    layers.Dropout(0.1),\n",
        "    layers.Dense(250),\n",
        "    layers.Dense(10, activation=\"softmax\")\n",
        "])\n",
        "\n",
        "model7.compile(loss=\"categorical_crossentropy\", optimizer=SGD(), metrics=[\"accuracy\", keras.metrics.Precision(), keras.metrics.Recall()])\n",
        "\n",
        "model7.summary()"
      ],
      "execution_count": null,
      "outputs": [
        {
          "output_type": "stream",
          "name": "stdout",
          "text": [
            "Model: \"sequential_3\"\n",
            "_________________________________________________________________\n",
            "Layer (type)                 Output Shape              Param #   \n",
            "=================================================================\n",
            "flatten_3 (Flatten)          (None, 784)               0         \n",
            "_________________________________________________________________\n",
            "dropout (Dropout)            (None, 784)               0         \n",
            "_________________________________________________________________\n",
            "dense_9 (Dense)              (None, 500)               392500    \n",
            "_________________________________________________________________\n",
            "dropout_1 (Dropout)          (None, 500)               0         \n",
            "_________________________________________________________________\n",
            "dense_10 (Dense)             (None, 250)               125250    \n",
            "_________________________________________________________________\n",
            "dense_11 (Dense)             (None, 10)                2510      \n",
            "=================================================================\n",
            "Total params: 520,260\n",
            "Trainable params: 520,260\n",
            "Non-trainable params: 0\n",
            "_________________________________________________________________\n"
          ]
        }
      ]
    },
    {
      "cell_type": "code",
      "metadata": {
        "colab": {
          "base_uri": "https://localhost:8080/"
        },
        "id": "MPlY1gjhuD6x",
        "outputId": "81c392ea-8a54-4f33-af4c-5e5684ae7915"
      },
      "source": [
        "model7.fit(x_train, y_train, batch_size=128, epochs=30, validation_split=0.1) "
      ],
      "execution_count": null,
      "outputs": [
        {
          "output_type": "stream",
          "name": "stdout",
          "text": [
            "Epoch 1/30\n",
            "422/422 [==============================] - 7s 15ms/step - loss: 0.7622 - accuracy: 0.7934 - precision_3: 0.9374 - recall_3: 0.6055 - val_loss: 0.3830 - val_accuracy: 0.9045 - val_precision_3: 0.9563 - val_recall_3: 0.8463\n",
            "Epoch 2/30\n",
            "422/422 [==============================] - 6s 14ms/step - loss: 0.4438 - accuracy: 0.8734 - precision_3: 0.9238 - recall_3: 0.8208 - val_loss: 0.3139 - val_accuracy: 0.9150 - val_precision_3: 0.9503 - val_recall_3: 0.8797\n",
            "Epoch 3/30\n",
            "422/422 [==============================] - 6s 14ms/step - loss: 0.4005 - accuracy: 0.8836 - precision_3: 0.9219 - recall_3: 0.8464 - val_loss: 0.2894 - val_accuracy: 0.9188 - val_precision_3: 0.9478 - val_recall_3: 0.8927\n",
            "Epoch 4/30\n",
            "422/422 [==============================] - 6s 14ms/step - loss: 0.3752 - accuracy: 0.8922 - precision_3: 0.9242 - recall_3: 0.8623 - val_loss: 0.2773 - val_accuracy: 0.9222 - val_precision_3: 0.9482 - val_recall_3: 0.9007\n",
            "Epoch 5/30\n",
            "422/422 [==============================] - 6s 14ms/step - loss: 0.3610 - accuracy: 0.8965 - precision_3: 0.9251 - recall_3: 0.8698 - val_loss: 0.2689 - val_accuracy: 0.9253 - val_precision_3: 0.9466 - val_recall_3: 0.9045\n",
            "Epoch 6/30\n",
            "422/422 [==============================] - 6s 14ms/step - loss: 0.3537 - accuracy: 0.8984 - precision_3: 0.9254 - recall_3: 0.8742 - val_loss: 0.2625 - val_accuracy: 0.9272 - val_precision_3: 0.9476 - val_recall_3: 0.9075\n",
            "Epoch 7/30\n",
            "422/422 [==============================] - 6s 13ms/step - loss: 0.3464 - accuracy: 0.9009 - precision_3: 0.9264 - recall_3: 0.8769 - val_loss: 0.2575 - val_accuracy: 0.9272 - val_precision_3: 0.9483 - val_recall_3: 0.9107\n",
            "Epoch 8/30\n",
            "422/422 [==============================] - 6s 14ms/step - loss: 0.3400 - accuracy: 0.9025 - precision_3: 0.9272 - recall_3: 0.8805 - val_loss: 0.2531 - val_accuracy: 0.9307 - val_precision_3: 0.9501 - val_recall_3: 0.9138\n",
            "Epoch 9/30\n",
            "422/422 [==============================] - 6s 13ms/step - loss: 0.3372 - accuracy: 0.9022 - precision_3: 0.9263 - recall_3: 0.8819 - val_loss: 0.2512 - val_accuracy: 0.9287 - val_precision_3: 0.9503 - val_recall_3: 0.9148\n",
            "Epoch 10/30\n",
            "422/422 [==============================] - 5s 13ms/step - loss: 0.3322 - accuracy: 0.9048 - precision_3: 0.9269 - recall_3: 0.8837 - val_loss: 0.2492 - val_accuracy: 0.9297 - val_precision_3: 0.9502 - val_recall_3: 0.9155\n",
            "Epoch 11/30\n",
            "422/422 [==============================] - 5s 13ms/step - loss: 0.3274 - accuracy: 0.9068 - precision_3: 0.9296 - recall_3: 0.8869 - val_loss: 0.2465 - val_accuracy: 0.9303 - val_precision_3: 0.9500 - val_recall_3: 0.9175\n",
            "Epoch 12/30\n",
            "422/422 [==============================] - 6s 13ms/step - loss: 0.3249 - accuracy: 0.9073 - precision_3: 0.9290 - recall_3: 0.8880 - val_loss: 0.2442 - val_accuracy: 0.9327 - val_precision_3: 0.9505 - val_recall_3: 0.9192\n",
            "Epoch 13/30\n",
            "422/422 [==============================] - 6s 14ms/step - loss: 0.3230 - accuracy: 0.9074 - precision_3: 0.9290 - recall_3: 0.8893 - val_loss: 0.2419 - val_accuracy: 0.9332 - val_precision_3: 0.9514 - val_recall_3: 0.9193\n",
            "Epoch 14/30\n",
            "422/422 [==============================] - 6s 14ms/step - loss: 0.3218 - accuracy: 0.9080 - precision_3: 0.9293 - recall_3: 0.8901 - val_loss: 0.2413 - val_accuracy: 0.9343 - val_precision_3: 0.9505 - val_recall_3: 0.9178\n",
            "Epoch 15/30\n",
            "422/422 [==============================] - 6s 14ms/step - loss: 0.3188 - accuracy: 0.9085 - precision_3: 0.9291 - recall_3: 0.8915 - val_loss: 0.2417 - val_accuracy: 0.9332 - val_precision_3: 0.9509 - val_recall_3: 0.9177\n",
            "Epoch 16/30\n",
            "422/422 [==============================] - 6s 14ms/step - loss: 0.3154 - accuracy: 0.9095 - precision_3: 0.9301 - recall_3: 0.8917 - val_loss: 0.2391 - val_accuracy: 0.9338 - val_precision_3: 0.9513 - val_recall_3: 0.9213\n",
            "Epoch 17/30\n",
            "422/422 [==============================] - 6s 15ms/step - loss: 0.3145 - accuracy: 0.9099 - precision_3: 0.9297 - recall_3: 0.8919 - val_loss: 0.2395 - val_accuracy: 0.9330 - val_precision_3: 0.9505 - val_recall_3: 0.9187\n",
            "Epoch 18/30\n",
            "422/422 [==============================] - 6s 14ms/step - loss: 0.3144 - accuracy: 0.9095 - precision_3: 0.9299 - recall_3: 0.8922 - val_loss: 0.2370 - val_accuracy: 0.9335 - val_precision_3: 0.9501 - val_recall_3: 0.9210\n",
            "Epoch 19/30\n",
            "422/422 [==============================] - 7s 16ms/step - loss: 0.3113 - accuracy: 0.9121 - precision_3: 0.9316 - recall_3: 0.8949 - val_loss: 0.2378 - val_accuracy: 0.9348 - val_precision_3: 0.9508 - val_recall_3: 0.9208\n",
            "Epoch 20/30\n",
            "422/422 [==============================] - 6s 15ms/step - loss: 0.3103 - accuracy: 0.9121 - precision_3: 0.9312 - recall_3: 0.8949 - val_loss: 0.2358 - val_accuracy: 0.9355 - val_precision_3: 0.9508 - val_recall_3: 0.9212\n",
            "Epoch 21/30\n",
            "422/422 [==============================] - 6s 14ms/step - loss: 0.3103 - accuracy: 0.9120 - precision_3: 0.9312 - recall_3: 0.8944 - val_loss: 0.2347 - val_accuracy: 0.9357 - val_precision_3: 0.9511 - val_recall_3: 0.9212\n",
            "Epoch 22/30\n",
            "422/422 [==============================] - 6s 15ms/step - loss: 0.3075 - accuracy: 0.9121 - precision_3: 0.9319 - recall_3: 0.8961 - val_loss: 0.2341 - val_accuracy: 0.9352 - val_precision_3: 0.9510 - val_recall_3: 0.9225\n",
            "Epoch 23/30\n",
            "422/422 [==============================] - 6s 15ms/step - loss: 0.3067 - accuracy: 0.9126 - precision_3: 0.9316 - recall_3: 0.8959 - val_loss: 0.2336 - val_accuracy: 0.9362 - val_precision_3: 0.9520 - val_recall_3: 0.9217\n",
            "Epoch 24/30\n",
            "422/422 [==============================] - 6s 15ms/step - loss: 0.3070 - accuracy: 0.9130 - precision_3: 0.9313 - recall_3: 0.8966 - val_loss: 0.2332 - val_accuracy: 0.9355 - val_precision_3: 0.9517 - val_recall_3: 0.9225\n",
            "Epoch 25/30\n",
            "422/422 [==============================] - 6s 14ms/step - loss: 0.3054 - accuracy: 0.9141 - precision_3: 0.9328 - recall_3: 0.8980 - val_loss: 0.2319 - val_accuracy: 0.9368 - val_precision_3: 0.9527 - val_recall_3: 0.9237\n",
            "Epoch 26/30\n",
            "422/422 [==============================] - 6s 14ms/step - loss: 0.3060 - accuracy: 0.9126 - precision_3: 0.9315 - recall_3: 0.8965 - val_loss: 0.2320 - val_accuracy: 0.9353 - val_precision_3: 0.9524 - val_recall_3: 0.9233\n",
            "Epoch 27/30\n",
            "422/422 [==============================] - 6s 14ms/step - loss: 0.3045 - accuracy: 0.9135 - precision_3: 0.9318 - recall_3: 0.8979 - val_loss: 0.2315 - val_accuracy: 0.9353 - val_precision_3: 0.9529 - val_recall_3: 0.9245\n",
            "Epoch 28/30\n",
            "422/422 [==============================] - 6s 14ms/step - loss: 0.3022 - accuracy: 0.9148 - precision_3: 0.9330 - recall_3: 0.8984 - val_loss: 0.2319 - val_accuracy: 0.9373 - val_precision_3: 0.9524 - val_recall_3: 0.9235\n",
            "Epoch 29/30\n",
            "422/422 [==============================] - 6s 14ms/step - loss: 0.3007 - accuracy: 0.9153 - precision_3: 0.9331 - recall_3: 0.8993 - val_loss: 0.2310 - val_accuracy: 0.9353 - val_precision_3: 0.9509 - val_recall_3: 0.9238\n",
            "Epoch 30/30\n",
            "422/422 [==============================] - 6s 15ms/step - loss: 0.3018 - accuracy: 0.9146 - precision_3: 0.9334 - recall_3: 0.8987 - val_loss: 0.2304 - val_accuracy: 0.9375 - val_precision_3: 0.9521 - val_recall_3: 0.9245\n"
          ]
        },
        {
          "output_type": "execute_result",
          "data": {
            "text/plain": [
              "<keras.callbacks.History at 0x7fcce7da75d0>"
            ]
          },
          "metadata": {},
          "execution_count": 19
        }
      ]
    },
    {
      "cell_type": "code",
      "metadata": {
        "colab": {
          "base_uri": "https://localhost:8080/"
        },
        "id": "ILW80Q0HuSrN",
        "outputId": "27266592-419c-4521-decc-84038f81c843"
      },
      "source": [
        "accuracy_class(model7)"
      ],
      "execution_count": null,
      "outputs": [
        {
          "output_type": "stream",
          "name": "stdout",
          "text": [
            "Acurácia por Classe\n",
            "Classe 0: 97.857143%\n",
            "Classe 1: 97.797357%\n",
            "Classe 2: 89.922481%\n",
            "Classe 3: 90.792079%\n",
            "Classe 4: 92.362525%\n",
            "Classe 5: 85.986547%\n",
            "Classe 6: 95.302714%\n",
            "Classe 7: 91.926070%\n",
            "Classe 8: 90.759754%\n",
            "Classe 9: 90.782953%\n"
          ]
        }
      ]
    },
    {
      "cell_type": "code",
      "metadata": {
        "colab": {
          "base_uri": "https://localhost:8080/"
        },
        "id": "XbOzNL9-uW9V",
        "outputId": "21e9c58e-2a4d-47d3-ea13-02628d8d9aac"
      },
      "source": [
        "accuracy_total(model7)"
      ],
      "execution_count": null,
      "outputs": [
        {
          "output_type": "stream",
          "name": "stdout",
          "text": [
            "Acurácia Total: 0.924600\n",
            "Precision:      0.938866\n",
            "Recall:         0.910700\n"
          ]
        }
      ]
    },
    {
      "cell_type": "markdown",
      "metadata": {
        "id": "wFoyd1lqfiMR"
      },
      "source": [
        "Esse experimento aumentou a acurácia em 0,06%, mas diminuiu precisão e recall "
      ]
    },
    {
      "cell_type": "markdown",
      "metadata": {
        "id": "HbYIDkvjvJq9"
      },
      "source": [
        "## Oitava versão: MLP\n",
        "\n",
        "Nesse experimento, nós mudamos a função de ativação de umas das hidden layers para relu, e além disso mudamamos o algoritmo de aprendizagem para Adam, que é uma extensão do gradient descent."
      ]
    },
    {
      "cell_type": "code",
      "metadata": {
        "colab": {
          "base_uri": "https://localhost:8080/"
        },
        "id": "GH07euNPvLUb",
        "outputId": "199be434-4aa8-4cdb-fb56-13d525bfc28e"
      },
      "source": [
        "model8 = keras.Sequential([\n",
        "    keras.Input(shape=(28,28,1)),\n",
        "    layers.Flatten(),\n",
        "    layers.Dropout(0.1),\n",
        "    layers.Dense(500, activation=\"relu\"),\n",
        "    layers.Dropout(0.1),\n",
        "    layers.Dense(250),\n",
        "    layers.Dense(10, activation=\"softmax\")\n",
        "])\n",
        "\n",
        "model8.compile(loss=\"categorical_crossentropy\", optimizer=Adam(), metrics=[\"accuracy\", keras.metrics.Precision(), keras.metrics.Recall()])\n",
        "\n",
        "model8.summary()"
      ],
      "execution_count": null,
      "outputs": [
        {
          "output_type": "stream",
          "name": "stdout",
          "text": [
            "Model: \"sequential_4\"\n",
            "_________________________________________________________________\n",
            "Layer (type)                 Output Shape              Param #   \n",
            "=================================================================\n",
            "flatten_4 (Flatten)          (None, 784)               0         \n",
            "_________________________________________________________________\n",
            "dropout_2 (Dropout)          (None, 784)               0         \n",
            "_________________________________________________________________\n",
            "dense_12 (Dense)             (None, 500)               392500    \n",
            "_________________________________________________________________\n",
            "dropout_3 (Dropout)          (None, 500)               0         \n",
            "_________________________________________________________________\n",
            "dense_13 (Dense)             (None, 250)               125250    \n",
            "_________________________________________________________________\n",
            "dense_14 (Dense)             (None, 10)                2510      \n",
            "=================================================================\n",
            "Total params: 520,260\n",
            "Trainable params: 520,260\n",
            "Non-trainable params: 0\n",
            "_________________________________________________________________\n"
          ]
        }
      ]
    },
    {
      "cell_type": "code",
      "metadata": {
        "colab": {
          "base_uri": "https://localhost:8080/"
        },
        "id": "Z8-FU_govV-d",
        "outputId": "eec37c41-6367-48ec-9af0-070ae44a03d4"
      },
      "source": [
        "model8.fit(x_train, y_train, batch_size=128, epochs=30, validation_split=0.1)"
      ],
      "execution_count": null,
      "outputs": [
        {
          "output_type": "stream",
          "name": "stdout",
          "text": [
            "Epoch 1/30\n",
            "422/422 [==============================] - 7s 17ms/step - loss: 0.0154 - accuracy: 0.9949 - precision_4: 0.9951 - recall_4: 0.9948 - val_loss: 0.0957 - val_accuracy: 0.9850 - val_precision_4: 0.9855 - val_recall_4: 0.9850\n",
            "Epoch 2/30\n",
            "422/422 [==============================] - 7s 16ms/step - loss: 0.0153 - accuracy: 0.9951 - precision_4: 0.9954 - recall_4: 0.9950 - val_loss: 0.1132 - val_accuracy: 0.9823 - val_precision_4: 0.9836 - val_recall_4: 0.9820\n",
            "Epoch 3/30\n",
            "422/422 [==============================] - 6s 15ms/step - loss: 0.0138 - accuracy: 0.9955 - precision_4: 0.9957 - recall_4: 0.9954 - val_loss: 0.0974 - val_accuracy: 0.9832 - val_precision_4: 0.9836 - val_recall_4: 0.9823\n",
            "Epoch 4/30\n",
            "422/422 [==============================] - 6s 15ms/step - loss: 0.0147 - accuracy: 0.9956 - precision_4: 0.9957 - recall_4: 0.9954 - val_loss: 0.0994 - val_accuracy: 0.9817 - val_precision_4: 0.9821 - val_recall_4: 0.9808\n",
            "Epoch 5/30\n",
            "422/422 [==============================] - 7s 16ms/step - loss: 0.0141 - accuracy: 0.9956 - precision_4: 0.9958 - recall_4: 0.9955 - val_loss: 0.1017 - val_accuracy: 0.9843 - val_precision_4: 0.9851 - val_recall_4: 0.9837\n",
            "Epoch 6/30\n",
            "422/422 [==============================] - 7s 16ms/step - loss: 0.0134 - accuracy: 0.9956 - precision_4: 0.9957 - recall_4: 0.9955 - val_loss: 0.1051 - val_accuracy: 0.9837 - val_precision_4: 0.9842 - val_recall_4: 0.9833\n",
            "Epoch 7/30\n",
            "422/422 [==============================] - 7s 17ms/step - loss: 0.0149 - accuracy: 0.9954 - precision_4: 0.9956 - recall_4: 0.9953 - val_loss: 0.1017 - val_accuracy: 0.9828 - val_precision_4: 0.9843 - val_recall_4: 0.9827\n",
            "Epoch 8/30\n",
            "422/422 [==============================] - 6s 15ms/step - loss: 0.0168 - accuracy: 0.9952 - precision_4: 0.9953 - recall_4: 0.9950 - val_loss: 0.0996 - val_accuracy: 0.9845 - val_precision_4: 0.9852 - val_recall_4: 0.9843\n",
            "Epoch 9/30\n",
            "422/422 [==============================] - 6s 15ms/step - loss: 0.0163 - accuracy: 0.9951 - precision_4: 0.9953 - recall_4: 0.9950 - val_loss: 0.0980 - val_accuracy: 0.9843 - val_precision_4: 0.9852 - val_recall_4: 0.9842\n",
            "Epoch 10/30\n",
            "422/422 [==============================] - 6s 15ms/step - loss: 0.0132 - accuracy: 0.9957 - precision_4: 0.9958 - recall_4: 0.9956 - val_loss: 0.1086 - val_accuracy: 0.9812 - val_precision_4: 0.9813 - val_recall_4: 0.9807\n",
            "Epoch 11/30\n",
            "422/422 [==============================] - 7s 16ms/step - loss: 0.0119 - accuracy: 0.9961 - precision_4: 0.9963 - recall_4: 0.9960 - val_loss: 0.1112 - val_accuracy: 0.9843 - val_precision_4: 0.9845 - val_recall_4: 0.9842\n",
            "Epoch 12/30\n",
            "422/422 [==============================] - 7s 16ms/step - loss: 0.0107 - accuracy: 0.9965 - precision_4: 0.9966 - recall_4: 0.9964 - val_loss: 0.1048 - val_accuracy: 0.9837 - val_precision_4: 0.9838 - val_recall_4: 0.9835\n",
            "Epoch 13/30\n",
            "422/422 [==============================] - 7s 15ms/step - loss: 0.0146 - accuracy: 0.9958 - precision_4: 0.9959 - recall_4: 0.9957 - val_loss: 0.1199 - val_accuracy: 0.9805 - val_precision_4: 0.9812 - val_recall_4: 0.9805\n",
            "Epoch 14/30\n",
            "422/422 [==============================] - 7s 16ms/step - loss: 0.0132 - accuracy: 0.9961 - precision_4: 0.9961 - recall_4: 0.9960 - val_loss: 0.0909 - val_accuracy: 0.9855 - val_precision_4: 0.9858 - val_recall_4: 0.9850\n",
            "Epoch 15/30\n",
            "422/422 [==============================] - 6s 15ms/step - loss: 0.0103 - accuracy: 0.9965 - precision_4: 0.9966 - recall_4: 0.9963 - val_loss: 0.1116 - val_accuracy: 0.9828 - val_precision_4: 0.9830 - val_recall_4: 0.9827\n",
            "Epoch 16/30\n",
            "422/422 [==============================] - 7s 16ms/step - loss: 0.0176 - accuracy: 0.9949 - precision_4: 0.9951 - recall_4: 0.9948 - val_loss: 0.1127 - val_accuracy: 0.9840 - val_precision_4: 0.9842 - val_recall_4: 0.9840\n",
            "Epoch 17/30\n",
            "422/422 [==============================] - 7s 15ms/step - loss: 0.0130 - accuracy: 0.9959 - precision_4: 0.9961 - recall_4: 0.9958 - val_loss: 0.1188 - val_accuracy: 0.9838 - val_precision_4: 0.9842 - val_recall_4: 0.9838\n",
            "Epoch 18/30\n",
            "422/422 [==============================] - 7s 16ms/step - loss: 0.0133 - accuracy: 0.9960 - precision_4: 0.9961 - recall_4: 0.9959 - val_loss: 0.0994 - val_accuracy: 0.9847 - val_precision_4: 0.9852 - val_recall_4: 0.9843\n",
            "Epoch 19/30\n",
            "422/422 [==============================] - 6s 15ms/step - loss: 0.0107 - accuracy: 0.9970 - precision_4: 0.9971 - recall_4: 0.9970 - val_loss: 0.0904 - val_accuracy: 0.9847 - val_precision_4: 0.9852 - val_recall_4: 0.9842\n",
            "Epoch 20/30\n",
            "422/422 [==============================] - 6s 15ms/step - loss: 0.0103 - accuracy: 0.9968 - precision_4: 0.9969 - recall_4: 0.9967 - val_loss: 0.1101 - val_accuracy: 0.9840 - val_precision_4: 0.9842 - val_recall_4: 0.9838\n",
            "Epoch 21/30\n",
            "422/422 [==============================] - 6s 15ms/step - loss: 0.0126 - accuracy: 0.9964 - precision_4: 0.9966 - recall_4: 0.9964 - val_loss: 0.1060 - val_accuracy: 0.9840 - val_precision_4: 0.9845 - val_recall_4: 0.9840\n",
            "Epoch 22/30\n",
            "422/422 [==============================] - 6s 15ms/step - loss: 0.0136 - accuracy: 0.9961 - precision_4: 0.9963 - recall_4: 0.9961 - val_loss: 0.1055 - val_accuracy: 0.9853 - val_precision_4: 0.9855 - val_recall_4: 0.9850\n",
            "Epoch 23/30\n",
            "422/422 [==============================] - 6s 15ms/step - loss: 0.0128 - accuracy: 0.9961 - precision_4: 0.9962 - recall_4: 0.9961 - val_loss: 0.1005 - val_accuracy: 0.9837 - val_precision_4: 0.9838 - val_recall_4: 0.9835\n",
            "Epoch 24/30\n",
            "422/422 [==============================] - 6s 15ms/step - loss: 0.0114 - accuracy: 0.9962 - precision_4: 0.9963 - recall_4: 0.9962 - val_loss: 0.1080 - val_accuracy: 0.9847 - val_precision_4: 0.9847 - val_recall_4: 0.9845\n",
            "Epoch 25/30\n",
            "422/422 [==============================] - 6s 15ms/step - loss: 0.0112 - accuracy: 0.9966 - precision_4: 0.9968 - recall_4: 0.9965 - val_loss: 0.1169 - val_accuracy: 0.9822 - val_precision_4: 0.9823 - val_recall_4: 0.9820\n",
            "Epoch 26/30\n",
            "422/422 [==============================] - 6s 15ms/step - loss: 0.0101 - accuracy: 0.9968 - precision_4: 0.9968 - recall_4: 0.9967 - val_loss: 0.1053 - val_accuracy: 0.9837 - val_precision_4: 0.9840 - val_recall_4: 0.9835\n",
            "Epoch 27/30\n",
            "422/422 [==============================] - 6s 15ms/step - loss: 0.0103 - accuracy: 0.9968 - precision_4: 0.9968 - recall_4: 0.9967 - val_loss: 0.1078 - val_accuracy: 0.9825 - val_precision_4: 0.9825 - val_recall_4: 0.9823\n",
            "Epoch 28/30\n",
            "422/422 [==============================] - 6s 15ms/step - loss: 0.0089 - accuracy: 0.9971 - precision_4: 0.9972 - recall_4: 0.9970 - val_loss: 0.0979 - val_accuracy: 0.9850 - val_precision_4: 0.9852 - val_recall_4: 0.9848\n",
            "Epoch 29/30\n",
            "422/422 [==============================] - 6s 15ms/step - loss: 0.0114 - accuracy: 0.9967 - precision_4: 0.9967 - recall_4: 0.9966 - val_loss: 0.1136 - val_accuracy: 0.9840 - val_precision_4: 0.9842 - val_recall_4: 0.9837\n",
            "Epoch 30/30\n",
            "422/422 [==============================] - 7s 16ms/step - loss: 0.0135 - accuracy: 0.9962 - precision_4: 0.9963 - recall_4: 0.9962 - val_loss: 0.1010 - val_accuracy: 0.9833 - val_precision_4: 0.9838 - val_recall_4: 0.9832\n"
          ]
        },
        {
          "output_type": "execute_result",
          "data": {
            "text/plain": [
              "<keras.callbacks.History at 0x7fccdcb38ed0>"
            ]
          },
          "metadata": {},
          "execution_count": 28
        }
      ]
    },
    {
      "cell_type": "code",
      "metadata": {
        "colab": {
          "base_uri": "https://localhost:8080/"
        },
        "id": "4NOLy-nkv4mD",
        "outputId": "472c5786-4b59-4826-d72d-626619f38154"
      },
      "source": [
        "accuracy_class(model8)"
      ],
      "execution_count": null,
      "outputs": [
        {
          "output_type": "stream",
          "name": "stdout",
          "text": [
            "Acurácia por Classe\n",
            "Classe 0: 99.285714%\n",
            "Classe 1: 98.590308%\n",
            "Classe 2: 98.062016%\n",
            "Classe 3: 97.623762%\n",
            "Classe 4: 97.657841%\n",
            "Classe 5: 98.094170%\n",
            "Classe 6: 98.225470%\n",
            "Classe 7: 97.957198%\n",
            "Classe 8: 98.254620%\n",
            "Classe 9: 98.017839%\n"
          ]
        }
      ]
    },
    {
      "cell_type": "code",
      "metadata": {
        "colab": {
          "base_uri": "https://localhost:8080/"
        },
        "id": "bCe4LBAXv7Ny",
        "outputId": "c055ec24-abce-4ec8-f6bd-62ddf70e782b"
      },
      "source": [
        "accuracy_total(model8)"
      ],
      "execution_count": null,
      "outputs": [
        {
          "output_type": "stream",
          "name": "stdout",
          "text": [
            "Acurácia Total: 0.981800\n",
            "Precision:      0.982388\n",
            "Recall:         0.981700\n"
          ]
        }
      ]
    },
    {
      "cell_type": "markdown",
      "metadata": {
        "id": "8LHcRUi9gl0c"
      },
      "source": [
        "Com essas alterações, nós tivemos resultados bem satisfatórios, com a acurácia total aumentando em 6%, a precisão aumentando em 5% e o recall aumentando em 7%."
      ]
    },
    {
      "cell_type": "markdown",
      "metadata": {
        "id": "LvRhlWayhecC"
      },
      "source": [
        "## Nona versão: MLP\n",
        "\n",
        "Aqui nós mudamos a função de ativação da última hidden layler para sigmoid."
      ]
    },
    {
      "cell_type": "code",
      "metadata": {
        "id": "slsvZuk6hgzG"
      },
      "source": [
        "model9 = keras.Sequential([\n",
        "    keras.Input(shape=(28,28,1)),\n",
        "    layers.Flatten(),\n",
        "    layers.Dropout(0.1),\n",
        "    layers.Dense(500, activation=\"relu\"),\n",
        "    layers.Dropout(0.1),\n",
        "    layers.Dense(250, activation=\"sigmoid\"),\n",
        "    layers.Dense(10, activation=\"softmax\")\n",
        "])\n",
        "\n",
        "model9.compile(loss=\"categorical_crossentropy\", optimizer=Adam(), metrics=[\"accuracy\", keras.metrics.Precision(), keras.metrics.Recall()])\n",
        "\n",
        "model9.summary()"
      ],
      "execution_count": null,
      "outputs": []
    },
    {
      "cell_type": "code",
      "metadata": {
        "colab": {
          "base_uri": "https://localhost:8080/"
        },
        "id": "pwKzxru-h5Cd",
        "outputId": "8d277819-cb52-4049-8032-6da2af322ae2"
      },
      "source": [
        "model9.fit(x_train, y_train, batch_size=128, epochs=30, validation_split=0.1) "
      ],
      "execution_count": null,
      "outputs": [
        {
          "output_type": "stream",
          "name": "stdout",
          "text": [
            "Epoch 1/30\n",
            "422/422 [==============================] - 8s 16ms/step - loss: 0.3456 - accuracy: 0.9022 - precision_5: 0.9448 - recall_5: 0.8539 - val_loss: 0.1227 - val_accuracy: 0.9635 - val_precision_5: 0.9706 - val_recall_5: 0.9573\n",
            "Epoch 2/30\n",
            "422/422 [==============================] - 6s 15ms/step - loss: 0.1323 - accuracy: 0.9606 - precision_5: 0.9690 - recall_5: 0.9538 - val_loss: 0.0828 - val_accuracy: 0.9757 - val_precision_5: 0.9800 - val_recall_5: 0.9732\n",
            "Epoch 3/30\n",
            "422/422 [==============================] - 6s 15ms/step - loss: 0.0903 - accuracy: 0.9717 - precision_5: 0.9768 - recall_5: 0.9676 - val_loss: 0.0726 - val_accuracy: 0.9785 - val_precision_5: 0.9820 - val_recall_5: 0.9755\n",
            "Epoch 4/30\n",
            "422/422 [==============================] - 6s 15ms/step - loss: 0.0691 - accuracy: 0.9779 - precision_5: 0.9815 - recall_5: 0.9756 - val_loss: 0.0642 - val_accuracy: 0.9805 - val_precision_5: 0.9838 - val_recall_5: 0.9793\n",
            "Epoch 5/30\n",
            "422/422 [==============================] - 6s 15ms/step - loss: 0.0557 - accuracy: 0.9826 - precision_5: 0.9850 - recall_5: 0.9804 - val_loss: 0.0615 - val_accuracy: 0.9810 - val_precision_5: 0.9844 - val_recall_5: 0.9793\n",
            "Epoch 6/30\n",
            "422/422 [==============================] - 6s 15ms/step - loss: 0.0435 - accuracy: 0.9860 - precision_5: 0.9877 - recall_5: 0.9842 - val_loss: 0.0599 - val_accuracy: 0.9813 - val_precision_5: 0.9829 - val_recall_5: 0.9797\n",
            "Epoch 7/30\n",
            "422/422 [==============================] - 6s 15ms/step - loss: 0.0385 - accuracy: 0.9874 - precision_5: 0.9890 - recall_5: 0.9864 - val_loss: 0.0580 - val_accuracy: 0.9840 - val_precision_5: 0.9860 - val_recall_5: 0.9833\n",
            "Epoch 8/30\n",
            "422/422 [==============================] - 7s 17ms/step - loss: 0.0332 - accuracy: 0.9891 - precision_5: 0.9901 - recall_5: 0.9880 - val_loss: 0.0590 - val_accuracy: 0.9832 - val_precision_5: 0.9845 - val_recall_5: 0.9823\n",
            "Epoch 9/30\n",
            "422/422 [==============================] - 7s 16ms/step - loss: 0.0272 - accuracy: 0.9906 - precision_5: 0.9916 - recall_5: 0.9898 - val_loss: 0.0600 - val_accuracy: 0.9835 - val_precision_5: 0.9851 - val_recall_5: 0.9827\n",
            "Epoch 10/30\n",
            "422/422 [==============================] - 6s 15ms/step - loss: 0.0262 - accuracy: 0.9910 - precision_5: 0.9918 - recall_5: 0.9903 - val_loss: 0.0626 - val_accuracy: 0.9823 - val_precision_5: 0.9838 - val_recall_5: 0.9815\n",
            "Epoch 11/30\n",
            "422/422 [==============================] - 7s 16ms/step - loss: 0.0237 - accuracy: 0.9924 - precision_5: 0.9930 - recall_5: 0.9919 - val_loss: 0.0542 - val_accuracy: 0.9862 - val_precision_5: 0.9870 - val_recall_5: 0.9857\n",
            "Epoch 12/30\n",
            "422/422 [==============================] - 7s 16ms/step - loss: 0.0204 - accuracy: 0.9931 - precision_5: 0.9936 - recall_5: 0.9925 - val_loss: 0.0570 - val_accuracy: 0.9848 - val_precision_5: 0.9865 - val_recall_5: 0.9840\n",
            "Epoch 13/30\n",
            "422/422 [==============================] - 7s 16ms/step - loss: 0.0185 - accuracy: 0.9934 - precision_5: 0.9939 - recall_5: 0.9928 - val_loss: 0.0568 - val_accuracy: 0.9855 - val_precision_5: 0.9866 - val_recall_5: 0.9847\n",
            "Epoch 14/30\n",
            "422/422 [==============================] - 7s 17ms/step - loss: 0.0183 - accuracy: 0.9938 - precision_5: 0.9941 - recall_5: 0.9935 - val_loss: 0.0556 - val_accuracy: 0.9848 - val_precision_5: 0.9860 - val_recall_5: 0.9842\n",
            "Epoch 15/30\n",
            "422/422 [==============================] - 7s 16ms/step - loss: 0.0154 - accuracy: 0.9948 - precision_5: 0.9952 - recall_5: 0.9945 - val_loss: 0.0666 - val_accuracy: 0.9818 - val_precision_5: 0.9830 - val_recall_5: 0.9817\n",
            "Epoch 16/30\n",
            "422/422 [==============================] - 6s 15ms/step - loss: 0.0156 - accuracy: 0.9944 - precision_5: 0.9948 - recall_5: 0.9942 - val_loss: 0.0633 - val_accuracy: 0.9843 - val_precision_5: 0.9850 - val_recall_5: 0.9833\n",
            "Epoch 17/30\n",
            "422/422 [==============================] - 6s 15ms/step - loss: 0.0150 - accuracy: 0.9949 - precision_5: 0.9951 - recall_5: 0.9947 - val_loss: 0.0636 - val_accuracy: 0.9832 - val_precision_5: 0.9838 - val_recall_5: 0.9828\n",
            "Epoch 18/30\n",
            "422/422 [==============================] - 7s 15ms/step - loss: 0.0138 - accuracy: 0.9954 - precision_5: 0.9956 - recall_5: 0.9952 - val_loss: 0.0549 - val_accuracy: 0.9858 - val_precision_5: 0.9868 - val_recall_5: 0.9852\n",
            "Epoch 19/30\n",
            "422/422 [==============================] - 7s 16ms/step - loss: 0.0132 - accuracy: 0.9956 - precision_5: 0.9958 - recall_5: 0.9954 - val_loss: 0.0625 - val_accuracy: 0.9842 - val_precision_5: 0.9851 - val_recall_5: 0.9835\n",
            "Epoch 20/30\n",
            "422/422 [==============================] - 7s 17ms/step - loss: 0.0134 - accuracy: 0.9952 - precision_5: 0.9955 - recall_5: 0.9950 - val_loss: 0.0679 - val_accuracy: 0.9840 - val_precision_5: 0.9848 - val_recall_5: 0.9833\n",
            "Epoch 21/30\n",
            "422/422 [==============================] - 7s 16ms/step - loss: 0.0123 - accuracy: 0.9958 - precision_5: 0.9961 - recall_5: 0.9956 - val_loss: 0.0612 - val_accuracy: 0.9847 - val_precision_5: 0.9856 - val_recall_5: 0.9840\n",
            "Epoch 22/30\n",
            "422/422 [==============================] - 7s 16ms/step - loss: 0.0101 - accuracy: 0.9962 - precision_5: 0.9964 - recall_5: 0.9960 - val_loss: 0.0683 - val_accuracy: 0.9840 - val_precision_5: 0.9848 - val_recall_5: 0.9835\n",
            "Epoch 23/30\n",
            "422/422 [==============================] - 6s 15ms/step - loss: 0.0112 - accuracy: 0.9961 - precision_5: 0.9963 - recall_5: 0.9960 - val_loss: 0.0674 - val_accuracy: 0.9843 - val_precision_5: 0.9851 - val_recall_5: 0.9840\n",
            "Epoch 24/30\n",
            "422/422 [==============================] - 6s 15ms/step - loss: 0.0111 - accuracy: 0.9965 - precision_5: 0.9966 - recall_5: 0.9964 - val_loss: 0.0613 - val_accuracy: 0.9858 - val_precision_5: 0.9863 - val_recall_5: 0.9857\n",
            "Epoch 25/30\n",
            "422/422 [==============================] - 6s 15ms/step - loss: 0.0090 - accuracy: 0.9968 - precision_5: 0.9969 - recall_5: 0.9966 - val_loss: 0.0724 - val_accuracy: 0.9847 - val_precision_5: 0.9850 - val_recall_5: 0.9843\n",
            "Epoch 26/30\n",
            "422/422 [==============================] - 7s 16ms/step - loss: 0.0087 - accuracy: 0.9969 - precision_5: 0.9970 - recall_5: 0.9968 - val_loss: 0.0677 - val_accuracy: 0.9843 - val_precision_5: 0.9853 - val_recall_5: 0.9840\n",
            "Epoch 27/30\n",
            "422/422 [==============================] - 7s 17ms/step - loss: 0.0094 - accuracy: 0.9967 - precision_5: 0.9968 - recall_5: 0.9966 - val_loss: 0.0631 - val_accuracy: 0.9860 - val_precision_5: 0.9868 - val_recall_5: 0.9858\n",
            "Epoch 28/30\n",
            "422/422 [==============================] - 7s 16ms/step - loss: 0.0102 - accuracy: 0.9964 - precision_5: 0.9966 - recall_5: 0.9963 - val_loss: 0.0660 - val_accuracy: 0.9865 - val_precision_5: 0.9873 - val_recall_5: 0.9860\n",
            "Epoch 29/30\n",
            "422/422 [==============================] - 6s 15ms/step - loss: 0.0099 - accuracy: 0.9964 - precision_5: 0.9965 - recall_5: 0.9963 - val_loss: 0.0532 - val_accuracy: 0.9870 - val_precision_5: 0.9877 - val_recall_5: 0.9870\n",
            "Epoch 30/30\n",
            "422/422 [==============================] - 7s 16ms/step - loss: 0.0088 - accuracy: 0.9970 - precision_5: 0.9971 - recall_5: 0.9969 - val_loss: 0.0603 - val_accuracy: 0.9865 - val_precision_5: 0.9872 - val_recall_5: 0.9865\n"
          ]
        },
        {
          "output_type": "execute_result",
          "data": {
            "text/plain": [
              "<keras.callbacks.History at 0x7fccdf59b350>"
            ]
          },
          "metadata": {},
          "execution_count": 27
        }
      ]
    },
    {
      "cell_type": "code",
      "metadata": {
        "colab": {
          "base_uri": "https://localhost:8080/"
        },
        "id": "gp6BVU8EiLHj",
        "outputId": "4d438b7c-bcf1-4676-c594-61da18b8a27b"
      },
      "source": [
        "accuracy_class(model9)"
      ],
      "execution_count": null,
      "outputs": [
        {
          "output_type": "stream",
          "name": "stdout",
          "text": [
            "Acurácia por Classe\n",
            "Classe 0: 99.183673%\n",
            "Classe 1: 99.559471%\n",
            "Classe 2: 98.158915%\n",
            "Classe 3: 97.920792%\n",
            "Classe 4: 98.472505%\n",
            "Classe 5: 97.645740%\n",
            "Classe 6: 98.329854%\n",
            "Classe 7: 98.540856%\n",
            "Classe 8: 98.459959%\n",
            "Classe 9: 98.612488%\n"
          ]
        }
      ]
    },
    {
      "cell_type": "code",
      "metadata": {
        "colab": {
          "base_uri": "https://localhost:8080/"
        },
        "id": "Qygdkjb8iN6H",
        "outputId": "2424a159-d909-45be-e5b6-baa8c4537248"
      },
      "source": [
        "accuracy_total(model9)"
      ],
      "execution_count": null,
      "outputs": [
        {
          "output_type": "stream",
          "name": "stdout",
          "text": [
            "Acurácia Total: 0.985100\n",
            "Precision:      0.985787\n",
            "Recall:         0.984900\n"
          ]
        }
      ]
    },
    {
      "cell_type": "markdown",
      "metadata": {
        "id": "HtQRkPc1kEcE"
      },
      "source": [
        "Como resultado, aumentamos acurácia, precisão e recall em relação ao último experimento."
      ]
    },
    {
      "cell_type": "markdown",
      "metadata": {
        "id": "wSpxjTWCgdhS"
      },
      "source": [
        "# Primeira versão: CNN\n",
        "\n",
        "Agora, ao invés de utilizar redes MLP iniciaremos nossos testes com redes CNN que possuem uma vantagem em relação às redes MLP: considerar a estrutura da matriz de entrada.\n",
        "\n",
        "Nessa primeira versão iniciaremos com uma CNN simples, de apenas uma camada convolucional e uma camada de pooling."
      ]
    },
    {
      "cell_type": "code",
      "metadata": {
        "colab": {
          "base_uri": "https://localhost:8080/"
        },
        "id": "Fq3XjOlYhS58",
        "outputId": "af2ddee1-1744-40fb-d0e0-e18bb3f8315a"
      },
      "source": [
        "model10 = keras.Sequential(\n",
        "    [\n",
        "        keras.Input(shape=(28, 28, 1)),\n",
        "        layers.Conv2D(32, kernel_size=(3, 3), activation=\"relu\"),\n",
        "        layers.MaxPooling2D(pool_size=(2, 2)),\n",
        "        layers.Flatten(),\n",
        "        layers.Dense(10, activation=\"softmax\"),\n",
        "    ]\n",
        ")\n",
        "\n",
        "model10.compile(loss=\"categorical_crossentropy\", optimizer=Adam(), metrics=[\"accuracy\", keras.metrics.Precision(), keras.metrics.Recall()])\n",
        "\n",
        "model10.summary()"
      ],
      "execution_count": null,
      "outputs": [
        {
          "output_type": "stream",
          "name": "stdout",
          "text": [
            "Model: \"sequential_2\"\n",
            "_________________________________________________________________\n",
            "Layer (type)                 Output Shape              Param #   \n",
            "=================================================================\n",
            "conv2d_3 (Conv2D)            (None, 26, 26, 32)        320       \n",
            "_________________________________________________________________\n",
            "max_pooling2d_3 (MaxPooling2 (None, 13, 13, 32)        0         \n",
            "_________________________________________________________________\n",
            "flatten_3 (Flatten)          (None, 5408)              0         \n",
            "_________________________________________________________________\n",
            "dense_2 (Dense)              (None, 10)                54090     \n",
            "=================================================================\n",
            "Total params: 54,410\n",
            "Trainable params: 54,410\n",
            "Non-trainable params: 0\n",
            "_________________________________________________________________\n"
          ]
        }
      ]
    },
    {
      "cell_type": "code",
      "metadata": {
        "colab": {
          "base_uri": "https://localhost:8080/"
        },
        "id": "v0rCiQF4ipmz",
        "outputId": "95309252-8d8a-4aaa-d097-45768d84580e"
      },
      "source": [
        "model10.fit(x_train, y_train, batch_size=128, epochs=10, validation_split=0.1)"
      ],
      "execution_count": null,
      "outputs": [
        {
          "output_type": "stream",
          "name": "stdout",
          "text": [
            "Epoch 1/10\n",
            "422/422 [==============================] - 17s 41ms/step - loss: 0.0128 - accuracy: 0.9967 - precision_1: 0.9971 - recall_1: 0.9963 - val_loss: 0.0587 - val_accuracy: 0.9853 - val_precision_1: 0.9865 - val_recall_1: 0.9853\n",
            "Epoch 2/10\n",
            "422/422 [==============================] - 17s 41ms/step - loss: 0.0121 - accuracy: 0.9971 - precision_1: 0.9974 - recall_1: 0.9967 - val_loss: 0.0637 - val_accuracy: 0.9853 - val_precision_1: 0.9860 - val_recall_1: 0.9845\n",
            "Epoch 3/10\n",
            "422/422 [==============================] - 17s 41ms/step - loss: 0.0107 - accuracy: 0.9976 - precision_1: 0.9979 - recall_1: 0.9972 - val_loss: 0.0591 - val_accuracy: 0.9852 - val_precision_1: 0.9855 - val_recall_1: 0.9845\n",
            "Epoch 4/10\n",
            "422/422 [==============================] - 17s 41ms/step - loss: 0.0096 - accuracy: 0.9980 - precision_1: 0.9983 - recall_1: 0.9978 - val_loss: 0.0639 - val_accuracy: 0.9857 - val_precision_1: 0.9863 - val_recall_1: 0.9853\n",
            "Epoch 5/10\n",
            "422/422 [==============================] - 17s 41ms/step - loss: 0.0098 - accuracy: 0.9975 - precision_1: 0.9978 - recall_1: 0.9971 - val_loss: 0.0598 - val_accuracy: 0.9860 - val_precision_1: 0.9868 - val_recall_1: 0.9853\n",
            "Epoch 6/10\n",
            "422/422 [==============================] - 17s 41ms/step - loss: 0.0079 - accuracy: 0.9984 - precision_1: 0.9987 - recall_1: 0.9981 - val_loss: 0.0636 - val_accuracy: 0.9843 - val_precision_1: 0.9852 - val_recall_1: 0.9842\n",
            "Epoch 7/10\n",
            "422/422 [==============================] - 17s 41ms/step - loss: 0.0071 - accuracy: 0.9985 - precision_1: 0.9987 - recall_1: 0.9984 - val_loss: 0.0634 - val_accuracy: 0.9868 - val_precision_1: 0.9872 - val_recall_1: 0.9863\n",
            "Epoch 8/10\n",
            "422/422 [==============================] - 17s 41ms/step - loss: 0.0066 - accuracy: 0.9986 - precision_1: 0.9987 - recall_1: 0.9984 - val_loss: 0.0763 - val_accuracy: 0.9835 - val_precision_1: 0.9838 - val_recall_1: 0.9833\n",
            "Epoch 9/10\n",
            "422/422 [==============================] - 17s 41ms/step - loss: 0.0059 - accuracy: 0.9988 - precision_1: 0.9989 - recall_1: 0.9987 - val_loss: 0.0627 - val_accuracy: 0.9865 - val_precision_1: 0.9871 - val_recall_1: 0.9855\n",
            "Epoch 10/10\n",
            "422/422 [==============================] - 18s 42ms/step - loss: 0.0052 - accuracy: 0.9991 - precision_1: 0.9992 - recall_1: 0.9990 - val_loss: 0.0665 - val_accuracy: 0.9860 - val_precision_1: 0.9868 - val_recall_1: 0.9853\n"
          ]
        },
        {
          "output_type": "execute_result",
          "data": {
            "text/plain": [
              "<keras.callbacks.History at 0x7fb463792510>"
            ]
          },
          "metadata": {},
          "execution_count": 17
        }
      ]
    },
    {
      "cell_type": "code",
      "metadata": {
        "colab": {
          "base_uri": "https://localhost:8080/"
        },
        "id": "UtPcswtHmj36",
        "outputId": "8a217964-f5ad-4284-dfd6-32ff3324db5e"
      },
      "source": [
        "accuracy_class(model10)"
      ],
      "execution_count": null,
      "outputs": [
        {
          "output_type": "stream",
          "name": "stdout",
          "text": [
            "Acurácia por Classe\n",
            "Classe 0: 98.877551%\n",
            "Classe 1: 99.471366%\n",
            "Classe 2: 97.383721%\n",
            "Classe 3: 99.108911%\n",
            "Classe 4: 98.778004%\n",
            "Classe 5: 98.654709%\n",
            "Classe 6: 98.225470%\n",
            "Classe 7: 98.054475%\n",
            "Classe 8: 97.741273%\n",
            "Classe 9: 96.233895%\n"
          ]
        }
      ]
    },
    {
      "cell_type": "code",
      "metadata": {
        "colab": {
          "base_uri": "https://localhost:8080/"
        },
        "id": "c7dpdjJGmn1L",
        "outputId": "cd47914f-1916-4a16-dfb6-1dad6af0e6b6"
      },
      "source": [
        "accuracy_total(model10)"
      ],
      "execution_count": null,
      "outputs": [
        {
          "output_type": "stream",
          "name": "stdout",
          "text": [
            "Acurácia Total: 0.982600\n",
            "Precision:      0.982988\n",
            "Recall:         0.982300\n"
          ]
        }
      ]
    },
    {
      "cell_type": "markdown",
      "metadata": {
        "id": "M5Lpyxbam2Mg"
      },
      "source": [
        "Tivemos bons resultados de acurácia, precision e recall, no entanto todos esses valores foram menores do que nossa rede MLP final testada.\n"
      ]
    },
    {
      "cell_type": "markdown",
      "metadata": {
        "id": "jkB3mEOtNlX8"
      },
      "source": [
        "## Segunda versão: CNN\n",
        "Na segunda versão da CNN nós adicionamos uma camada a mais antes da úlltima, com uma função de ativação sigmóide, e com o batch size 10."
      ]
    },
    {
      "cell_type": "code",
      "metadata": {
        "colab": {
          "base_uri": "https://localhost:8080/"
        },
        "id": "Yp2K-vs2Nweo",
        "outputId": "0ade3c9a-ec4a-4f07-e269-d5d7f9408696"
      },
      "source": [
        "model11 = keras.Sequential(\n",
        "    [\n",
        "        keras.Input(shape=(28, 28, 1)),\n",
        "        layers.Conv2D(32, kernel_size=(3, 3), activation=\"relu\"),\n",
        "        layers.MaxPooling2D(pool_size=(2, 2)),\n",
        "        layers.Flatten(),\n",
        "        layers.Dense(250, activation=\"sigmoid\"),\n",
        "        layers.Dense(10, activation=\"softmax\")\n",
        "    ]\n",
        ")\n",
        "\n",
        "model11.compile(loss=\"categorical_crossentropy\", optimizer=Adam(), metrics=[\"accuracy\", keras.metrics.Precision(), keras.metrics.Recall()])\n",
        "\n",
        "model11.summary()"
      ],
      "execution_count": null,
      "outputs": [
        {
          "output_type": "stream",
          "name": "stdout",
          "text": [
            "Model: \"sequential_1\"\n",
            "_________________________________________________________________\n",
            "Layer (type)                 Output Shape              Param #   \n",
            "=================================================================\n",
            "conv2d (Conv2D)              (None, 26, 26, 32)        320       \n",
            "_________________________________________________________________\n",
            "max_pooling2d (MaxPooling2D) (None, 13, 13, 32)        0         \n",
            "_________________________________________________________________\n",
            "flatten_1 (Flatten)          (None, 5408)              0         \n",
            "_________________________________________________________________\n",
            "dense_2 (Dense)              (None, 250)               1352250   \n",
            "_________________________________________________________________\n",
            "dense_3 (Dense)              (None, 10)                2510      \n",
            "=================================================================\n",
            "Total params: 1,355,080\n",
            "Trainable params: 1,355,080\n",
            "Non-trainable params: 0\n",
            "_________________________________________________________________\n"
          ]
        }
      ]
    },
    {
      "cell_type": "code",
      "metadata": {
        "colab": {
          "base_uri": "https://localhost:8080/"
        },
        "id": "DzWJUwoGN7Fv",
        "outputId": "3cacb481-53cd-4c0f-e188-d2b546204897"
      },
      "source": [
        "model11.fit(x_train, y_train, batch_size=10, epochs=10, validation_split=0.1)"
      ],
      "execution_count": null,
      "outputs": [
        {
          "output_type": "stream",
          "name": "stdout",
          "text": [
            "Epoch 1/10\n",
            "5400/5400 [==============================] - 69s 13ms/step - loss: 0.0326 - accuracy: 0.9891 - precision_1: 0.9900 - recall_1: 0.9882 - val_loss: 0.0468 - val_accuracy: 0.9880 - val_precision_1: 0.9895 - val_recall_1: 0.9877\n",
            "Epoch 2/10\n",
            "5400/5400 [==============================] - 68s 13ms/step - loss: 0.0144 - accuracy: 0.9953 - precision_1: 0.9956 - recall_1: 0.9949 - val_loss: 0.0560 - val_accuracy: 0.9867 - val_precision_1: 0.9878 - val_recall_1: 0.9865\n",
            "Epoch 3/10\n",
            "5400/5400 [==============================] - 68s 13ms/step - loss: 0.0101 - accuracy: 0.9969 - precision_1: 0.9972 - recall_1: 0.9967 - val_loss: 0.0508 - val_accuracy: 0.9875 - val_precision_1: 0.9882 - val_recall_1: 0.9870\n",
            "Epoch 4/10\n",
            "5400/5400 [==============================] - 68s 13ms/step - loss: 0.0071 - accuracy: 0.9979 - precision_1: 0.9979 - recall_1: 0.9978 - val_loss: 0.0538 - val_accuracy: 0.9875 - val_precision_1: 0.9878 - val_recall_1: 0.9872\n",
            "Epoch 5/10\n",
            "5400/5400 [==============================] - 68s 13ms/step - loss: 0.0064 - accuracy: 0.9980 - precision_1: 0.9980 - recall_1: 0.9979 - val_loss: 0.0533 - val_accuracy: 0.9885 - val_precision_1: 0.9895 - val_recall_1: 0.9882\n",
            "Epoch 6/10\n",
            "5400/5400 [==============================] - 68s 13ms/step - loss: 0.0047 - accuracy: 0.9986 - precision_1: 0.9986 - recall_1: 0.9985 - val_loss: 0.0511 - val_accuracy: 0.9895 - val_precision_1: 0.9898 - val_recall_1: 0.9895\n",
            "Epoch 7/10\n",
            "5400/5400 [==============================] - 68s 13ms/step - loss: 0.0034 - accuracy: 0.9990 - precision_1: 0.9990 - recall_1: 0.9989 - val_loss: 0.0576 - val_accuracy: 0.9877 - val_precision_1: 0.9878 - val_recall_1: 0.9873\n",
            "Epoch 8/10\n",
            "5400/5400 [==============================] - 69s 13ms/step - loss: 0.0029 - accuracy: 0.9990 - precision_1: 0.9991 - recall_1: 0.9990 - val_loss: 0.0569 - val_accuracy: 0.9888 - val_precision_1: 0.9892 - val_recall_1: 0.9887\n",
            "Epoch 9/10\n",
            "5400/5400 [==============================] - 68s 13ms/step - loss: 0.0029 - accuracy: 0.9990 - precision_1: 0.9990 - recall_1: 0.9989 - val_loss: 0.0621 - val_accuracy: 0.9903 - val_precision_1: 0.9905 - val_recall_1: 0.9900\n",
            "Epoch 10/10\n",
            "5400/5400 [==============================] - 69s 13ms/step - loss: 0.0022 - accuracy: 0.9993 - precision_1: 0.9993 - recall_1: 0.9992 - val_loss: 0.0591 - val_accuracy: 0.9883 - val_precision_1: 0.9888 - val_recall_1: 0.9883\n"
          ]
        },
        {
          "output_type": "execute_result",
          "data": {
            "text/plain": [
              "<keras.callbacks.History at 0x7fa7f72eba50>"
            ]
          },
          "metadata": {},
          "execution_count": 9
        }
      ]
    },
    {
      "cell_type": "code",
      "metadata": {
        "colab": {
          "base_uri": "https://localhost:8080/"
        },
        "id": "AvB3cF3vN-0i",
        "outputId": "a8b5c232-a90a-45b7-f593-96a8e1a3eae6"
      },
      "source": [
        "accuracy_class(model11)"
      ],
      "execution_count": null,
      "outputs": [
        {
          "output_type": "stream",
          "name": "stdout",
          "text": [
            "Acurácia por Classe\n",
            "Classe 0: 99.489796%\n",
            "Classe 1: 99.735683%\n",
            "Classe 2: 98.934109%\n",
            "Classe 3: 99.207921%\n",
            "Classe 4: 98.981670%\n",
            "Classe 5: 98.094170%\n",
            "Classe 6: 98.643006%\n",
            "Classe 7: 98.443580%\n",
            "Classe 8: 97.638604%\n",
            "Classe 9: 98.711596%\n"
          ]
        }
      ]
    },
    {
      "cell_type": "code",
      "metadata": {
        "colab": {
          "base_uri": "https://localhost:8080/"
        },
        "id": "R6UM5vClN_kr",
        "outputId": "7023f615-37af-480a-be03-b87d84f7c7c0"
      },
      "source": [
        "accuracy_total(model11)"
      ],
      "execution_count": null,
      "outputs": [
        {
          "output_type": "stream",
          "name": "stdout",
          "text": [
            "Acurácia Total: 0.988100\n",
            "Precision:      0.988594\n",
            "Recall:         0.988100\n"
          ]
        }
      ]
    },
    {
      "cell_type": "markdown",
      "metadata": {
        "id": "NZgXS_rcVQiL"
      },
      "source": [
        "Percebemos então que obtemos resultados melhores que o melhor modelo anterior em todas as categorias"
      ]
    },
    {
      "cell_type": "markdown",
      "metadata": {
        "id": "eU45Xih3Vd5F"
      },
      "source": [
        "## Terceira versão: CNN\n",
        "\n",
        "No próximo modelo nós testamos a função relu invés da função sigmóide, já que a função relu é a mais utilizada. Além disso, aumentamos o número de épocas para 30 e setamos o batch size para 64"
      ]
    },
    {
      "cell_type": "code",
      "metadata": {
        "colab": {
          "base_uri": "https://localhost:8080/"
        },
        "id": "zp8sE8qmV8wW",
        "outputId": "5daea997-85e4-4e35-e74a-85c868b92f8d"
      },
      "source": [
        "model12 = keras.Sequential(\n",
        "    [\n",
        "        keras.Input(shape=(28, 28, 1)),\n",
        "        layers.Conv2D(32, kernel_size=(3, 3), activation=\"relu\"),\n",
        "        layers.MaxPooling2D(pool_size=(2, 2)),\n",
        "        layers.Flatten(),\n",
        "        layers.Dense(250, activation=\"relu\"),\n",
        "        layers.Dense(10, activation=\"softmax\"),\n",
        "    ]\n",
        ")\n",
        "\n",
        "model12.compile(loss=\"categorical_crossentropy\", optimizer=Adam(), metrics=[\"accuracy\", keras.metrics.Precision(), keras.metrics.Recall()])\n",
        "\n",
        "model12.summary()"
      ],
      "execution_count": null,
      "outputs": [
        {
          "output_type": "stream",
          "name": "stdout",
          "text": [
            "Model: \"sequential_2\"\n",
            "_________________________________________________________________\n",
            "Layer (type)                 Output Shape              Param #   \n",
            "=================================================================\n",
            "conv2d_1 (Conv2D)            (None, 26, 26, 32)        320       \n",
            "_________________________________________________________________\n",
            "max_pooling2d_1 (MaxPooling2 (None, 13, 13, 32)        0         \n",
            "_________________________________________________________________\n",
            "flatten_2 (Flatten)          (None, 5408)              0         \n",
            "_________________________________________________________________\n",
            "dense_4 (Dense)              (None, 250)               1352250   \n",
            "_________________________________________________________________\n",
            "dense_5 (Dense)              (None, 10)                2510      \n",
            "=================================================================\n",
            "Total params: 1,355,080\n",
            "Trainable params: 1,355,080\n",
            "Non-trainable params: 0\n",
            "_________________________________________________________________\n"
          ]
        }
      ]
    },
    {
      "cell_type": "code",
      "metadata": {
        "colab": {
          "base_uri": "https://localhost:8080/"
        },
        "id": "TNqv3UCsWjoE",
        "outputId": "ebd48d13-4c03-4ec7-ab9e-6301450bede5"
      },
      "source": [
        "model12.fit(x_train, y_train, batch_size=64, epochs=30, validation_split=0.1)"
      ],
      "execution_count": null,
      "outputs": [
        {
          "output_type": "stream",
          "name": "stdout",
          "text": [
            "Epoch 1/30\n",
            "844/844 [==============================] - 30s 35ms/step - loss: 0.1701 - accuracy: 0.9513 - precision_2: 0.9675 - recall_2: 0.9339 - val_loss: 0.0616 - val_accuracy: 0.9847 - val_precision_2: 0.9858 - val_recall_2: 0.9818\n",
            "Epoch 2/30\n",
            "844/844 [==============================] - 30s 35ms/step - loss: 0.0557 - accuracy: 0.9825 - precision_2: 0.9850 - recall_2: 0.9804 - val_loss: 0.0493 - val_accuracy: 0.9873 - val_precision_2: 0.9890 - val_recall_2: 0.9862\n",
            "Epoch 3/30\n",
            "844/844 [==============================] - 30s 35ms/step - loss: 0.0349 - accuracy: 0.9893 - precision_2: 0.9906 - recall_2: 0.9883 - val_loss: 0.0432 - val_accuracy: 0.9873 - val_precision_2: 0.9893 - val_recall_2: 0.9865\n",
            "Epoch 4/30\n",
            "844/844 [==============================] - 29s 35ms/step - loss: 0.0238 - accuracy: 0.9924 - precision_2: 0.9931 - recall_2: 0.9920 - val_loss: 0.0460 - val_accuracy: 0.9872 - val_precision_2: 0.9880 - val_recall_2: 0.9867\n",
            "Epoch 5/30\n",
            "844/844 [==============================] - 29s 35ms/step - loss: 0.0155 - accuracy: 0.9949 - precision_2: 0.9954 - recall_2: 0.9946 - val_loss: 0.0520 - val_accuracy: 0.9883 - val_precision_2: 0.9892 - val_recall_2: 0.9883\n",
            "Epoch 6/30\n",
            "844/844 [==============================] - 29s 35ms/step - loss: 0.0116 - accuracy: 0.9963 - precision_2: 0.9965 - recall_2: 0.9961 - val_loss: 0.0585 - val_accuracy: 0.9872 - val_precision_2: 0.9872 - val_recall_2: 0.9865\n",
            "Epoch 7/30\n",
            "844/844 [==============================] - 29s 35ms/step - loss: 0.0079 - accuracy: 0.9975 - precision_2: 0.9976 - recall_2: 0.9974 - val_loss: 0.0554 - val_accuracy: 0.9873 - val_precision_2: 0.9880 - val_recall_2: 0.9872\n",
            "Epoch 8/30\n",
            "844/844 [==============================] - 29s 35ms/step - loss: 0.0072 - accuracy: 0.9977 - precision_2: 0.9978 - recall_2: 0.9976 - val_loss: 0.0648 - val_accuracy: 0.9848 - val_precision_2: 0.9852 - val_recall_2: 0.9845\n",
            "Epoch 9/30\n",
            "844/844 [==============================] - 30s 35ms/step - loss: 0.0051 - accuracy: 0.9983 - precision_2: 0.9984 - recall_2: 0.9983 - val_loss: 0.0664 - val_accuracy: 0.9863 - val_precision_2: 0.9865 - val_recall_2: 0.9858\n",
            "Epoch 10/30\n",
            "844/844 [==============================] - 29s 35ms/step - loss: 0.0054 - accuracy: 0.9983 - precision_2: 0.9983 - recall_2: 0.9982 - val_loss: 0.0588 - val_accuracy: 0.9893 - val_precision_2: 0.9897 - val_recall_2: 0.9892\n",
            "Epoch 11/30\n",
            "844/844 [==============================] - 29s 35ms/step - loss: 0.0042 - accuracy: 0.9987 - precision_2: 0.9987 - recall_2: 0.9986 - val_loss: 0.0708 - val_accuracy: 0.9888 - val_precision_2: 0.9888 - val_recall_2: 0.9885\n",
            "Epoch 12/30\n",
            "844/844 [==============================] - 29s 35ms/step - loss: 0.0046 - accuracy: 0.9984 - precision_2: 0.9984 - recall_2: 0.9984 - val_loss: 0.0593 - val_accuracy: 0.9890 - val_precision_2: 0.9893 - val_recall_2: 0.9888\n",
            "Epoch 13/30\n",
            "844/844 [==============================] - 29s 35ms/step - loss: 0.0048 - accuracy: 0.9984 - precision_2: 0.9985 - recall_2: 0.9984 - val_loss: 0.0643 - val_accuracy: 0.9893 - val_precision_2: 0.9897 - val_recall_2: 0.9888\n",
            "Epoch 14/30\n",
            "844/844 [==============================] - 29s 35ms/step - loss: 0.0018 - accuracy: 0.9997 - precision_2: 0.9997 - recall_2: 0.9996 - val_loss: 0.0639 - val_accuracy: 0.9897 - val_precision_2: 0.9897 - val_recall_2: 0.9895\n",
            "Epoch 15/30\n",
            "844/844 [==============================] - 29s 35ms/step - loss: 0.0016 - accuracy: 0.9996 - precision_2: 0.9996 - recall_2: 0.9996 - val_loss: 0.0734 - val_accuracy: 0.9880 - val_precision_2: 0.9885 - val_recall_2: 0.9878\n",
            "Epoch 16/30\n",
            "844/844 [==============================] - 29s 35ms/step - loss: 0.0039 - accuracy: 0.9989 - precision_2: 0.9989 - recall_2: 0.9989 - val_loss: 0.0781 - val_accuracy: 0.9875 - val_precision_2: 0.9877 - val_recall_2: 0.9875\n",
            "Epoch 17/30\n",
            "844/844 [==============================] - 29s 34ms/step - loss: 0.0037 - accuracy: 0.9988 - precision_2: 0.9988 - recall_2: 0.9988 - val_loss: 0.0797 - val_accuracy: 0.9867 - val_precision_2: 0.9867 - val_recall_2: 0.9865\n",
            "Epoch 18/30\n",
            "844/844 [==============================] - 29s 35ms/step - loss: 0.0017 - accuracy: 0.9995 - precision_2: 0.9995 - recall_2: 0.9995 - val_loss: 0.0711 - val_accuracy: 0.9888 - val_precision_2: 0.9890 - val_recall_2: 0.9888\n",
            "Epoch 19/30\n",
            "844/844 [==============================] - 29s 35ms/step - loss: 0.0031 - accuracy: 0.9991 - precision_2: 0.9991 - recall_2: 0.9991 - val_loss: 0.0745 - val_accuracy: 0.9872 - val_precision_2: 0.9875 - val_recall_2: 0.9872\n",
            "Epoch 20/30\n",
            "844/844 [==============================] - 29s 35ms/step - loss: 0.0013 - accuracy: 0.9995 - precision_2: 0.9996 - recall_2: 0.9995 - val_loss: 0.0735 - val_accuracy: 0.9887 - val_precision_2: 0.9888 - val_recall_2: 0.9887\n",
            "Epoch 21/30\n",
            "844/844 [==============================] - 29s 35ms/step - loss: 0.0019 - accuracy: 0.9994 - precision_2: 0.9994 - recall_2: 0.9994 - val_loss: 0.0782 - val_accuracy: 0.9903 - val_precision_2: 0.9907 - val_recall_2: 0.9903\n",
            "Epoch 22/30\n",
            "844/844 [==============================] - 29s 35ms/step - loss: 0.0015 - accuracy: 0.9994 - precision_2: 0.9995 - recall_2: 0.9994 - val_loss: 0.0732 - val_accuracy: 0.9888 - val_precision_2: 0.9892 - val_recall_2: 0.9887\n",
            "Epoch 23/30\n",
            "844/844 [==============================] - 29s 35ms/step - loss: 0.0044 - accuracy: 0.9984 - precision_2: 0.9984 - recall_2: 0.9984 - val_loss: 0.0718 - val_accuracy: 0.9892 - val_precision_2: 0.9893 - val_recall_2: 0.9888\n",
            "Epoch 24/30\n",
            "844/844 [==============================] - 29s 35ms/step - loss: 6.8438e-04 - accuracy: 0.9998 - precision_2: 0.9998 - recall_2: 0.9998 - val_loss: 0.0660 - val_accuracy: 0.9912 - val_precision_2: 0.9913 - val_recall_2: 0.9910\n",
            "Epoch 25/30\n",
            "844/844 [==============================] - 29s 35ms/step - loss: 4.5752e-05 - accuracy: 1.0000 - precision_2: 1.0000 - recall_2: 1.0000 - val_loss: 0.0699 - val_accuracy: 0.9912 - val_precision_2: 0.9912 - val_recall_2: 0.9910\n",
            "Epoch 26/30\n",
            "844/844 [==============================] - 29s 35ms/step - loss: 1.4764e-05 - accuracy: 1.0000 - precision_2: 1.0000 - recall_2: 1.0000 - val_loss: 0.0705 - val_accuracy: 0.9915 - val_precision_2: 0.9918 - val_recall_2: 0.9913\n",
            "Epoch 27/30\n",
            "844/844 [==============================] - 30s 35ms/step - loss: 9.2163e-06 - accuracy: 1.0000 - precision_2: 1.0000 - recall_2: 1.0000 - val_loss: 0.0717 - val_accuracy: 0.9915 - val_precision_2: 0.9917 - val_recall_2: 0.9913\n",
            "Epoch 28/30\n",
            "844/844 [==============================] - 30s 35ms/step - loss: 6.2006e-06 - accuracy: 1.0000 - precision_2: 1.0000 - recall_2: 1.0000 - val_loss: 0.0733 - val_accuracy: 0.9913 - val_precision_2: 0.9915 - val_recall_2: 0.9913\n",
            "Epoch 29/30\n",
            "844/844 [==============================] - 30s 35ms/step - loss: 4.2331e-06 - accuracy: 1.0000 - precision_2: 1.0000 - recall_2: 1.0000 - val_loss: 0.0747 - val_accuracy: 0.9913 - val_precision_2: 0.9915 - val_recall_2: 0.9913\n",
            "Epoch 30/30\n",
            "844/844 [==============================] - 30s 35ms/step - loss: 2.9254e-06 - accuracy: 1.0000 - precision_2: 1.0000 - recall_2: 1.0000 - val_loss: 0.0766 - val_accuracy: 0.9912 - val_precision_2: 0.9915 - val_recall_2: 0.9912\n"
          ]
        },
        {
          "output_type": "execute_result",
          "data": {
            "text/plain": [
              "<keras.callbacks.History at 0x7fa7ff871d90>"
            ]
          },
          "metadata": {},
          "execution_count": 14
        }
      ]
    },
    {
      "cell_type": "code",
      "metadata": {
        "colab": {
          "base_uri": "https://localhost:8080/"
        },
        "id": "eQZK3rszWodX",
        "outputId": "db3fc3e2-997d-4166-e945-3373107fbbcb"
      },
      "source": [
        "accuracy_class(model12)"
      ],
      "execution_count": null,
      "outputs": [
        {
          "output_type": "stream",
          "name": "stdout",
          "text": [
            "Acurácia por Classe\n",
            "Classe 0: 99.591837%\n",
            "Classe 1: 99.471366%\n",
            "Classe 2: 99.031008%\n",
            "Classe 3: 99.207921%\n",
            "Classe 4: 99.185336%\n",
            "Classe 5: 98.654709%\n",
            "Classe 6: 98.851775%\n",
            "Classe 7: 98.832685%\n",
            "Classe 8: 98.870637%\n",
            "Classe 9: 98.513380%\n"
          ]
        }
      ]
    },
    {
      "cell_type": "code",
      "metadata": {
        "colab": {
          "base_uri": "https://localhost:8080/"
        },
        "id": "_VY01U5PbrJw",
        "outputId": "d2a08a84-2e03-471f-ddf8-7f5d81c9f851"
      },
      "source": [
        "accuracy_total(model12)"
      ],
      "execution_count": null,
      "outputs": [
        {
          "output_type": "stream",
          "name": "stdout",
          "text": [
            "Acurácia Total: 0.990300\n",
            "Precision:      0.990398\n",
            "Recall:         0.990200\n"
          ]
        }
      ]
    },
    {
      "cell_type": "markdown",
      "metadata": {
        "id": "bJjN8hhYb1W7"
      },
      "source": [
        "Percebemos nesse teste que tivemos os melhores resultados até aqui novamente."
      ]
    },
    {
      "cell_type": "markdown",
      "metadata": {
        "id": "xPQ6RU9LeIXJ"
      },
      "source": [
        "## Quarta versão: CNN\n",
        "Nessa versão nós mudamos o filters da primeira camada para 64 e o strides para (2,2), número de pixels que serão shiftados sobre nossa matrix de entrada."
      ]
    },
    {
      "cell_type": "code",
      "metadata": {
        "colab": {
          "base_uri": "https://localhost:8080/"
        },
        "id": "3snTMuENeL2v",
        "outputId": "d942fe73-beff-49e2-d303-4d6d110a6bd1"
      },
      "source": [
        "model13 = keras.Sequential(\n",
        "    [\n",
        "        keras.Input(shape=(28, 28, 1)),\n",
        "        layers.Conv2D(64, kernel_size=(3, 3), strides=(2, 2), activation=\"relu\"),\n",
        "        layers.MaxPooling2D(pool_size=(2, 2)),\n",
        "        layers.Flatten(),\n",
        "        layers.Dense(250, activation=\"relu\"),\n",
        "        layers.Dense(10, activation=\"softmax\"),\n",
        "    ]\n",
        ")\n",
        "\n",
        "model13.compile(loss=\"categorical_crossentropy\", optimizer=Adam(), metrics=[\"accuracy\", keras.metrics.Precision(), keras.metrics.Recall()])\n",
        "\n",
        "model13.summary()"
      ],
      "execution_count": null,
      "outputs": [
        {
          "output_type": "stream",
          "name": "stdout",
          "text": [
            "Model: \"sequential_4\"\n",
            "_________________________________________________________________\n",
            "Layer (type)                 Output Shape              Param #   \n",
            "=================================================================\n",
            "conv2d_3 (Conv2D)            (None, 13, 13, 64)        640       \n",
            "_________________________________________________________________\n",
            "max_pooling2d_3 (MaxPooling2 (None, 6, 6, 64)          0         \n",
            "_________________________________________________________________\n",
            "flatten_4 (Flatten)          (None, 2304)              0         \n",
            "_________________________________________________________________\n",
            "dense_8 (Dense)              (None, 250)               576250    \n",
            "_________________________________________________________________\n",
            "dense_9 (Dense)              (None, 10)                2510      \n",
            "=================================================================\n",
            "Total params: 579,400\n",
            "Trainable params: 579,400\n",
            "Non-trainable params: 0\n",
            "_________________________________________________________________\n"
          ]
        }
      ]
    },
    {
      "cell_type": "code",
      "metadata": {
        "colab": {
          "base_uri": "https://localhost:8080/"
        },
        "id": "YstQuAd8eqan",
        "outputId": "abd08c4e-d603-4d70-8de1-bf028f6dd550"
      },
      "source": [
        "model13.fit(x_train, y_train, batch_size=128, epochs=10, validation_split=0.1)"
      ],
      "execution_count": null,
      "outputs": [
        {
          "output_type": "stream",
          "name": "stdout",
          "text": [
            "Epoch 1/10\n",
            "422/422 [==============================] - 13s 28ms/step - loss: 0.2794 - accuracy: 0.9195 - precision_4: 0.9549 - recall_4: 0.8821 - val_loss: 0.0958 - val_accuracy: 0.9737 - val_precision_4: 0.9780 - val_recall_4: 0.9687\n",
            "Epoch 2/10\n",
            "422/422 [==============================] - 12s 28ms/step - loss: 0.0940 - accuracy: 0.9709 - precision_4: 0.9768 - recall_4: 0.9667 - val_loss: 0.0745 - val_accuracy: 0.9795 - val_precision_4: 0.9826 - val_recall_4: 0.9772\n",
            "Epoch 3/10\n",
            "422/422 [==============================] - 12s 28ms/step - loss: 0.0668 - accuracy: 0.9794 - precision_4: 0.9830 - recall_4: 0.9765 - val_loss: 0.0629 - val_accuracy: 0.9815 - val_precision_4: 0.9841 - val_recall_4: 0.9800\n",
            "Epoch 4/10\n",
            "422/422 [==============================] - 12s 28ms/step - loss: 0.0510 - accuracy: 0.9842 - precision_4: 0.9868 - recall_4: 0.9825 - val_loss: 0.0586 - val_accuracy: 0.9837 - val_precision_4: 0.9848 - val_recall_4: 0.9825\n",
            "Epoch 5/10\n",
            "422/422 [==============================] - 12s 27ms/step - loss: 0.0418 - accuracy: 0.9870 - precision_4: 0.9892 - recall_4: 0.9857 - val_loss: 0.0505 - val_accuracy: 0.9852 - val_precision_4: 0.9865 - val_recall_4: 0.9845\n",
            "Epoch 6/10\n",
            "422/422 [==============================] - 12s 28ms/step - loss: 0.0330 - accuracy: 0.9905 - precision_4: 0.9918 - recall_4: 0.9891 - val_loss: 0.0519 - val_accuracy: 0.9852 - val_precision_4: 0.9870 - val_recall_4: 0.9842\n",
            "Epoch 7/10\n",
            "422/422 [==============================] - 12s 28ms/step - loss: 0.0276 - accuracy: 0.9918 - precision_4: 0.9927 - recall_4: 0.9908 - val_loss: 0.0501 - val_accuracy: 0.9860 - val_precision_4: 0.9873 - val_recall_4: 0.9852\n",
            "Epoch 8/10\n",
            "422/422 [==============================] - 12s 28ms/step - loss: 0.0214 - accuracy: 0.9936 - precision_4: 0.9945 - recall_4: 0.9930 - val_loss: 0.0505 - val_accuracy: 0.9853 - val_precision_4: 0.9871 - val_recall_4: 0.9850\n",
            "Epoch 9/10\n",
            "422/422 [==============================] - 12s 27ms/step - loss: 0.0170 - accuracy: 0.9949 - precision_4: 0.9953 - recall_4: 0.9944 - val_loss: 0.0534 - val_accuracy: 0.9848 - val_precision_4: 0.9865 - val_recall_4: 0.9842\n",
            "Epoch 10/10\n",
            "422/422 [==============================] - 11s 27ms/step - loss: 0.0139 - accuracy: 0.9959 - precision_4: 0.9964 - recall_4: 0.9955 - val_loss: 0.0487 - val_accuracy: 0.9865 - val_precision_4: 0.9868 - val_recall_4: 0.9855\n"
          ]
        },
        {
          "output_type": "execute_result",
          "data": {
            "text/plain": [
              "<keras.callbacks.History at 0x7fa7ff7139d0>"
            ]
          },
          "metadata": {},
          "execution_count": 19
        }
      ]
    },
    {
      "cell_type": "code",
      "metadata": {
        "colab": {
          "base_uri": "https://localhost:8080/"
        },
        "id": "qnhMTeT4ezE5",
        "outputId": "5341ba30-7f6a-4580-e411-30d514a5b496"
      },
      "source": [
        "accuracy_class(model13)"
      ],
      "execution_count": null,
      "outputs": [
        {
          "output_type": "stream",
          "name": "stdout",
          "text": [
            "Acurácia por Classe\n",
            "Classe 0: 99.489796%\n",
            "Classe 1: 99.383260%\n",
            "Classe 2: 98.837209%\n",
            "Classe 3: 99.009901%\n",
            "Classe 4: 98.574338%\n",
            "Classe 5: 99.103139%\n",
            "Classe 6: 98.956159%\n",
            "Classe 7: 98.151751%\n",
            "Classe 8: 98.767967%\n",
            "Classe 9: 98.414272%\n"
          ]
        }
      ]
    },
    {
      "cell_type": "code",
      "metadata": {
        "colab": {
          "base_uri": "https://localhost:8080/"
        },
        "id": "rgsTvLLFe0JI",
        "outputId": "0fac0ba6-6644-41a8-979e-4eff923c9a68"
      },
      "source": [
        "accuracy_total(model13)"
      ],
      "execution_count": null,
      "outputs": [
        {
          "output_type": "stream",
          "name": "stdout",
          "text": [
            "Acurácia Total: 0.988700\n",
            "Precision:      0.989486\n",
            "Recall:         0.988200\n"
          ]
        }
      ]
    },
    {
      "cell_type": "markdown",
      "metadata": {
        "id": "qg5cCtGbfYiZ"
      },
      "source": [
        "Aqui nós obtivemos resultados não tão bons quanto os dois anteriores, mas ainda assim muito bons"
      ]
    },
    {
      "cell_type": "markdown",
      "metadata": {
        "id": "amNgqOHlglaL"
      },
      "source": [
        "## Quinta versão: CNN\n",
        "Nessa versão utilizando o nosso melhor modelo até o momento, vamos adicionar mais uma camada de convulução, já que cada camada de convolução é responsável pela a diminuição de features de entradas para as camadas ocultas."
      ]
    },
    {
      "cell_type": "code",
      "metadata": {
        "colab": {
          "base_uri": "https://localhost:8080/"
        },
        "id": "MEMdaBYIhkl7",
        "outputId": "ed3d608d-74d1-41d6-9392-b88035bfc94a"
      },
      "source": [
        "model14 = keras.Sequential(\n",
        "    [\n",
        "        keras.Input(shape=(28, 28, 1)),\n",
        "        layers.Conv2D(32, kernel_size=(3, 3), activation=\"relu\"),\n",
        "        layers.MaxPooling2D(pool_size=(2, 2)),\n",
        "        layers.Conv2D(32, kernel_size=(3, 3), activation=\"relu\"),\n",
        "        layers.MaxPooling2D(pool_size=(2, 2)),\n",
        "        layers.Flatten(),\n",
        "        layers.Dense(250, activation=\"relu\"),\n",
        "        layers.Dense(10, activation=\"softmax\"),\n",
        "    ]\n",
        ")\n",
        "\n",
        "model14.compile(loss=\"categorical_crossentropy\", optimizer=Adam(), metrics=[\"accuracy\", keras.metrics.Precision(), keras.metrics.Recall()])\n",
        "\n",
        "model14.summary()"
      ],
      "execution_count": null,
      "outputs": [
        {
          "output_type": "stream",
          "name": "stdout",
          "text": [
            "Model: \"sequential\"\n",
            "_________________________________________________________________\n",
            "Layer (type)                 Output Shape              Param #   \n",
            "=================================================================\n",
            "conv2d (Conv2D)              (None, 26, 26, 32)        320       \n",
            "_________________________________________________________________\n",
            "max_pooling2d (MaxPooling2D) (None, 13, 13, 32)        0         \n",
            "_________________________________________________________________\n",
            "conv2d_1 (Conv2D)            (None, 11, 11, 32)        9248      \n",
            "_________________________________________________________________\n",
            "max_pooling2d_1 (MaxPooling2 (None, 5, 5, 32)          0         \n",
            "_________________________________________________________________\n",
            "flatten (Flatten)            (None, 800)               0         \n",
            "_________________________________________________________________\n",
            "dense (Dense)                (None, 250)               200250    \n",
            "_________________________________________________________________\n",
            "dense_1 (Dense)              (None, 10)                2510      \n",
            "=================================================================\n",
            "Total params: 212,328\n",
            "Trainable params: 212,328\n",
            "Non-trainable params: 0\n",
            "_________________________________________________________________\n"
          ]
        }
      ]
    },
    {
      "cell_type": "code",
      "metadata": {
        "colab": {
          "base_uri": "https://localhost:8080/"
        },
        "id": "6BkRwOWXijec",
        "outputId": "79d65ab1-81bf-4a46-a6cf-bbcc3c15f520"
      },
      "source": [
        "model14.fit(x_train, y_train, batch_size=64, epochs=30, validation_split=0.1)"
      ],
      "execution_count": null,
      "outputs": [
        {
          "output_type": "stream",
          "name": "stdout",
          "text": [
            "Epoch 1/30\n",
            "844/844 [==============================] - 40s 46ms/step - loss: 0.1754 - accuracy: 0.9470 - precision: 0.9684 - recall: 0.9275 - val_loss: 0.0538 - val_accuracy: 0.9862 - val_precision: 0.9881 - val_recall: 0.9833\n",
            "Epoch 2/30\n",
            "844/844 [==============================] - 39s 46ms/step - loss: 0.0518 - accuracy: 0.9836 - precision: 0.9857 - recall: 0.9821 - val_loss: 0.0427 - val_accuracy: 0.9892 - val_precision: 0.9913 - val_recall: 0.9877\n",
            "Epoch 3/30\n",
            "844/844 [==============================] - 39s 46ms/step - loss: 0.0349 - accuracy: 0.9893 - precision: 0.9905 - recall: 0.9884 - val_loss: 0.0373 - val_accuracy: 0.9888 - val_precision: 0.9898 - val_recall: 0.9873\n",
            "Epoch 4/30\n",
            "844/844 [==============================] - 39s 46ms/step - loss: 0.0263 - accuracy: 0.9915 - precision: 0.9922 - recall: 0.9909 - val_loss: 0.0369 - val_accuracy: 0.9900 - val_precision: 0.9907 - val_recall: 0.9893\n",
            "Epoch 5/30\n",
            "844/844 [==============================] - 39s 46ms/step - loss: 0.0198 - accuracy: 0.9936 - precision: 0.9941 - recall: 0.9933 - val_loss: 0.0358 - val_accuracy: 0.9905 - val_precision: 0.9913 - val_recall: 0.9898\n",
            "Epoch 6/30\n",
            "844/844 [==============================] - 39s 46ms/step - loss: 0.0153 - accuracy: 0.9948 - precision: 0.9951 - recall: 0.9945 - val_loss: 0.0397 - val_accuracy: 0.9887 - val_precision: 0.9893 - val_recall: 0.9887\n",
            "Epoch 7/30\n",
            "844/844 [==============================] - 39s 47ms/step - loss: 0.0126 - accuracy: 0.9959 - precision: 0.9960 - recall: 0.9957 - val_loss: 0.0435 - val_accuracy: 0.9905 - val_precision: 0.9908 - val_recall: 0.9903\n",
            "Epoch 8/30\n",
            "844/844 [==============================] - 39s 47ms/step - loss: 0.0100 - accuracy: 0.9968 - precision: 0.9969 - recall: 0.9964 - val_loss: 0.0444 - val_accuracy: 0.9905 - val_precision: 0.9907 - val_recall: 0.9900\n",
            "Epoch 9/30\n",
            "844/844 [==============================] - 39s 46ms/step - loss: 0.0097 - accuracy: 0.9968 - precision: 0.9969 - recall: 0.9967 - val_loss: 0.0347 - val_accuracy: 0.9912 - val_precision: 0.9915 - val_recall: 0.9907\n",
            "Epoch 10/30\n",
            "844/844 [==============================] - 39s 47ms/step - loss: 0.0073 - accuracy: 0.9976 - precision: 0.9977 - recall: 0.9975 - val_loss: 0.0342 - val_accuracy: 0.9925 - val_precision: 0.9932 - val_recall: 0.9923\n",
            "Epoch 11/30\n",
            "844/844 [==============================] - 39s 46ms/step - loss: 0.0053 - accuracy: 0.9983 - precision: 0.9983 - recall: 0.9983 - val_loss: 0.0338 - val_accuracy: 0.9927 - val_precision: 0.9927 - val_recall: 0.9923\n",
            "Epoch 12/30\n",
            "844/844 [==============================] - 39s 46ms/step - loss: 0.0068 - accuracy: 0.9978 - precision: 0.9979 - recall: 0.9977 - val_loss: 0.0380 - val_accuracy: 0.9915 - val_precision: 0.9915 - val_recall: 0.9912\n",
            "Epoch 13/30\n",
            "844/844 [==============================] - 39s 47ms/step - loss: 0.0048 - accuracy: 0.9984 - precision: 0.9984 - recall: 0.9983 - val_loss: 0.0371 - val_accuracy: 0.9920 - val_precision: 0.9920 - val_recall: 0.9920\n",
            "Epoch 14/30\n",
            "844/844 [==============================] - 39s 46ms/step - loss: 0.0054 - accuracy: 0.9979 - precision: 0.9979 - recall: 0.9979 - val_loss: 0.0455 - val_accuracy: 0.9915 - val_precision: 0.9918 - val_recall: 0.9915\n",
            "Epoch 15/30\n",
            "844/844 [==============================] - 39s 46ms/step - loss: 0.0047 - accuracy: 0.9983 - precision: 0.9983 - recall: 0.9983 - val_loss: 0.0366 - val_accuracy: 0.9930 - val_precision: 0.9930 - val_recall: 0.9928\n",
            "Epoch 16/30\n",
            "844/844 [==============================] - 39s 46ms/step - loss: 0.0029 - accuracy: 0.9991 - precision: 0.9991 - recall: 0.9991 - val_loss: 0.0342 - val_accuracy: 0.9932 - val_precision: 0.9932 - val_recall: 0.9932\n",
            "Epoch 17/30\n",
            "844/844 [==============================] - 39s 46ms/step - loss: 0.0045 - accuracy: 0.9984 - precision: 0.9984 - recall: 0.9984 - val_loss: 0.0501 - val_accuracy: 0.9900 - val_precision: 0.9900 - val_recall: 0.9893\n",
            "Epoch 18/30\n",
            "844/844 [==============================] - 39s 46ms/step - loss: 0.0037 - accuracy: 0.9987 - precision: 0.9987 - recall: 0.9986 - val_loss: 0.0536 - val_accuracy: 0.9913 - val_precision: 0.9915 - val_recall: 0.9913\n",
            "Epoch 19/30\n",
            "844/844 [==============================] - 39s 46ms/step - loss: 0.0035 - accuracy: 0.9986 - precision: 0.9986 - recall: 0.9986 - val_loss: 0.0466 - val_accuracy: 0.9915 - val_precision: 0.9917 - val_recall: 0.9913\n",
            "Epoch 20/30\n",
            "844/844 [==============================] - 39s 46ms/step - loss: 0.0031 - accuracy: 0.9989 - precision: 0.9989 - recall: 0.9989 - val_loss: 0.0619 - val_accuracy: 0.9903 - val_precision: 0.9905 - val_recall: 0.9902\n",
            "Epoch 21/30\n",
            "844/844 [==============================] - 39s 46ms/step - loss: 0.0024 - accuracy: 0.9991 - precision: 0.9991 - recall: 0.9991 - val_loss: 0.0513 - val_accuracy: 0.9917 - val_precision: 0.9920 - val_recall: 0.9917\n",
            "Epoch 22/30\n",
            "844/844 [==============================] - 39s 46ms/step - loss: 0.0040 - accuracy: 0.9987 - precision: 0.9987 - recall: 0.9986 - val_loss: 0.0504 - val_accuracy: 0.9927 - val_precision: 0.9930 - val_recall: 0.9927\n",
            "Epoch 23/30\n",
            "844/844 [==============================] - 39s 46ms/step - loss: 0.0033 - accuracy: 0.9988 - precision: 0.9988 - recall: 0.9988 - val_loss: 0.0625 - val_accuracy: 0.9898 - val_precision: 0.9898 - val_recall: 0.9898\n",
            "Epoch 24/30\n",
            "844/844 [==============================] - 39s 46ms/step - loss: 0.0031 - accuracy: 0.9991 - precision: 0.9991 - recall: 0.9991 - val_loss: 0.0475 - val_accuracy: 0.9932 - val_precision: 0.9932 - val_recall: 0.9932\n",
            "Epoch 25/30\n",
            "844/844 [==============================] - 38s 46ms/step - loss: 0.0015 - accuracy: 0.9994 - precision: 0.9994 - recall: 0.9994 - val_loss: 0.0579 - val_accuracy: 0.9908 - val_precision: 0.9912 - val_recall: 0.9908\n",
            "Epoch 26/30\n",
            "844/844 [==============================] - 39s 46ms/step - loss: 0.0042 - accuracy: 0.9986 - precision: 0.9986 - recall: 0.9985 - val_loss: 0.0550 - val_accuracy: 0.9920 - val_precision: 0.9922 - val_recall: 0.9920\n",
            "Epoch 27/30\n",
            "844/844 [==============================] - 38s 46ms/step - loss: 0.0027 - accuracy: 0.9993 - precision: 0.9993 - recall: 0.9993 - val_loss: 0.0485 - val_accuracy: 0.9925 - val_precision: 0.9927 - val_recall: 0.9925\n",
            "Epoch 28/30\n",
            "844/844 [==============================] - 39s 46ms/step - loss: 0.0017 - accuracy: 0.9995 - precision: 0.9996 - recall: 0.9995 - val_loss: 0.0468 - val_accuracy: 0.9930 - val_precision: 0.9932 - val_recall: 0.9930\n",
            "Epoch 29/30\n",
            "844/844 [==============================] - 39s 46ms/step - loss: 2.9400e-04 - accuracy: 0.9999 - precision: 0.9999 - recall: 0.9999 - val_loss: 0.0530 - val_accuracy: 0.9917 - val_precision: 0.9918 - val_recall: 0.9917\n",
            "Epoch 30/30\n",
            "844/844 [==============================] - 39s 46ms/step - loss: 0.0036 - accuracy: 0.9986 - precision: 0.9986 - recall: 0.9986 - val_loss: 0.0538 - val_accuracy: 0.9920 - val_precision: 0.9922 - val_recall: 0.9920\n"
          ]
        },
        {
          "output_type": "execute_result",
          "data": {
            "text/plain": [
              "<keras.callbacks.History at 0x7f177a65df10>"
            ]
          },
          "metadata": {},
          "execution_count": 5
        }
      ]
    },
    {
      "cell_type": "code",
      "metadata": {
        "colab": {
          "base_uri": "https://localhost:8080/"
        },
        "id": "-u0T5l72isTN",
        "outputId": "40d63807-4260-4829-bf6b-94fae7e9b009"
      },
      "source": [
        "accuracy_class(model14)"
      ],
      "execution_count": null,
      "outputs": [
        {
          "output_type": "stream",
          "name": "stdout",
          "text": [
            "Acurácia por Classe\n",
            "Classe 0: 99.489796%\n",
            "Classe 1: 99.911894%\n",
            "Classe 2: 99.321705%\n",
            "Classe 3: 99.702970%\n",
            "Classe 4: 99.287169%\n",
            "Classe 5: 98.991031%\n",
            "Classe 6: 99.164927%\n",
            "Classe 7: 99.319066%\n",
            "Classe 8: 98.767967%\n",
            "Classe 9: 98.414272%\n"
          ]
        }
      ]
    },
    {
      "cell_type": "code",
      "metadata": {
        "colab": {
          "base_uri": "https://localhost:8080/"
        },
        "id": "8XSNecrxisVe",
        "outputId": "02cb4c96-99c5-48e8-fb76-b1a8038804e5"
      },
      "source": [
        "accuracy_total(model14)"
      ],
      "execution_count": null,
      "outputs": [
        {
          "output_type": "stream",
          "name": "stdout",
          "text": [
            "Acurácia Total: 0.992500\n",
            "Precision:      0.992797\n",
            "Recall:         0.992400\n"
          ]
        }
      ]
    },
    {
      "cell_type": "markdown",
      "metadata": {
        "id": "LaW4sn0JngHq"
      },
      "source": [
        "Com a adição de mais uma camada de convolução o treinamento em relação a melhor versão anterior ficou mais lenta, porém conseguirmos consideravalmente aumentar todas as métricas! Sendo esse o melhor modelo até agora"
      ]
    },
    {
      "cell_type": "markdown",
      "metadata": {
        "id": "0NtmYRyNoYsl"
      },
      "source": [
        "## Sexta versão: CNN\n",
        "Nessa versão utilizando o nosso melhor modelo até o momento, nós utilizamos o dropout, que é uma técnica de regularização para reduzir overfit e otimizar nossa rede, ele ignora aleatoriamente neurônios da camada indicada."
      ]
    },
    {
      "cell_type": "code",
      "metadata": {
        "colab": {
          "base_uri": "https://localhost:8080/"
        },
        "id": "i2NzZdGkokQK",
        "outputId": "0ef6e886-975c-43d8-b4ec-18f1a6571aed"
      },
      "source": [
        "model15 = keras.Sequential(\n",
        "    [\n",
        "        keras.Input(shape=(28, 28, 1)),\n",
        "        layers.Conv2D(32, kernel_size=(3, 3), activation=\"relu\"),\n",
        "        layers.MaxPooling2D(pool_size=(2, 2)),\n",
        "        layers.Conv2D(32, kernel_size=(3, 3), activation=\"relu\"),\n",
        "        layers.MaxPooling2D(pool_size=(2, 2)),\n",
        "        layers.Flatten(),\n",
        "        layers.Dropout(0.1),\n",
        "        layers.Dense(250, activation=\"relu\"),\n",
        "        layers.Dropout(0.1),\n",
        "        layers.Dense(10, activation=\"softmax\"),\n",
        "    ]\n",
        ")\n",
        "\n",
        "model15.compile(loss=\"categorical_crossentropy\", optimizer=Adam(), metrics=[\"accuracy\", keras.metrics.Precision(), keras.metrics.Recall()])\n",
        "\n",
        "model15.summary()"
      ],
      "execution_count": null,
      "outputs": [
        {
          "output_type": "stream",
          "name": "stdout",
          "text": [
            "Model: \"sequential_1\"\n",
            "_________________________________________________________________\n",
            "Layer (type)                 Output Shape              Param #   \n",
            "=================================================================\n",
            "conv2d_2 (Conv2D)            (None, 26, 26, 32)        320       \n",
            "_________________________________________________________________\n",
            "max_pooling2d_2 (MaxPooling2 (None, 13, 13, 32)        0         \n",
            "_________________________________________________________________\n",
            "conv2d_3 (Conv2D)            (None, 11, 11, 32)        9248      \n",
            "_________________________________________________________________\n",
            "max_pooling2d_3 (MaxPooling2 (None, 5, 5, 32)          0         \n",
            "_________________________________________________________________\n",
            "flatten_1 (Flatten)          (None, 800)               0         \n",
            "_________________________________________________________________\n",
            "dropout (Dropout)            (None, 800)               0         \n",
            "_________________________________________________________________\n",
            "dense_2 (Dense)              (None, 250)               200250    \n",
            "_________________________________________________________________\n",
            "dropout_1 (Dropout)          (None, 250)               0         \n",
            "_________________________________________________________________\n",
            "dense_3 (Dense)              (None, 10)                2510      \n",
            "=================================================================\n",
            "Total params: 212,328\n",
            "Trainable params: 212,328\n",
            "Non-trainable params: 0\n",
            "_________________________________________________________________\n"
          ]
        }
      ]
    },
    {
      "cell_type": "code",
      "metadata": {
        "colab": {
          "base_uri": "https://localhost:8080/"
        },
        "id": "C2txyRQro0WT",
        "outputId": "3561551b-991d-45f7-ea1a-678b0bf14828"
      },
      "source": [
        "model15.fit(x_train, y_train, batch_size=64, epochs=30, validation_split=0.1)"
      ],
      "execution_count": null,
      "outputs": [
        {
          "output_type": "stream",
          "name": "stdout",
          "text": [
            "Epoch 1/30\n",
            "844/844 [==============================] - 40s 47ms/step - loss: 0.1868 - accuracy: 0.9426 - precision_1: 0.9666 - recall_1: 0.9228 - val_loss: 0.0665 - val_accuracy: 0.9808 - val_precision_1: 0.9833 - val_recall_1: 0.9792\n",
            "Epoch 2/30\n",
            "844/844 [==============================] - 40s 47ms/step - loss: 0.0586 - accuracy: 0.9813 - precision_1: 0.9837 - recall_1: 0.9792 - val_loss: 0.0410 - val_accuracy: 0.9880 - val_precision_1: 0.9896 - val_recall_1: 0.9872\n",
            "Epoch 3/30\n",
            "844/844 [==============================] - 40s 47ms/step - loss: 0.0405 - accuracy: 0.9874 - precision_1: 0.9887 - recall_1: 0.9861 - val_loss: 0.0375 - val_accuracy: 0.9892 - val_precision_1: 0.9910 - val_recall_1: 0.9887\n",
            "Epoch 4/30\n",
            "844/844 [==============================] - 40s 47ms/step - loss: 0.0321 - accuracy: 0.9895 - precision_1: 0.9906 - recall_1: 0.9888 - val_loss: 0.0333 - val_accuracy: 0.9912 - val_precision_1: 0.9915 - val_recall_1: 0.9902\n",
            "Epoch 5/30\n",
            "844/844 [==============================] - 40s 48ms/step - loss: 0.0271 - accuracy: 0.9914 - precision_1: 0.9922 - recall_1: 0.9909 - val_loss: 0.0339 - val_accuracy: 0.9908 - val_precision_1: 0.9915 - val_recall_1: 0.9908\n",
            "Epoch 6/30\n",
            "844/844 [==============================] - 40s 47ms/step - loss: 0.0204 - accuracy: 0.9929 - precision_1: 0.9935 - recall_1: 0.9926 - val_loss: 0.0337 - val_accuracy: 0.9907 - val_precision_1: 0.9912 - val_recall_1: 0.9903\n",
            "Epoch 7/30\n",
            "844/844 [==============================] - 40s 47ms/step - loss: 0.0183 - accuracy: 0.9944 - precision_1: 0.9948 - recall_1: 0.9940 - val_loss: 0.0302 - val_accuracy: 0.9933 - val_precision_1: 0.9937 - val_recall_1: 0.9932\n",
            "Epoch 8/30\n",
            "844/844 [==============================] - 40s 47ms/step - loss: 0.0161 - accuracy: 0.9942 - precision_1: 0.9946 - recall_1: 0.9939 - val_loss: 0.0456 - val_accuracy: 0.9878 - val_precision_1: 0.9885 - val_recall_1: 0.9877\n",
            "Epoch 9/30\n",
            "844/844 [==============================] - 40s 47ms/step - loss: 0.0131 - accuracy: 0.9956 - precision_1: 0.9957 - recall_1: 0.9954 - val_loss: 0.0319 - val_accuracy: 0.9915 - val_precision_1: 0.9918 - val_recall_1: 0.9912\n",
            "Epoch 10/30\n",
            "844/844 [==============================] - 40s 47ms/step - loss: 0.0126 - accuracy: 0.9953 - precision_1: 0.9955 - recall_1: 0.9951 - val_loss: 0.0317 - val_accuracy: 0.9927 - val_precision_1: 0.9932 - val_recall_1: 0.9923\n",
            "Epoch 11/30\n",
            "844/844 [==============================] - 40s 48ms/step - loss: 0.0108 - accuracy: 0.9964 - precision_1: 0.9964 - recall_1: 0.9963 - val_loss: 0.0441 - val_accuracy: 0.9903 - val_precision_1: 0.9907 - val_recall_1: 0.9903\n",
            "Epoch 12/30\n",
            "844/844 [==============================] - 40s 48ms/step - loss: 0.0090 - accuracy: 0.9969 - precision_1: 0.9970 - recall_1: 0.9969 - val_loss: 0.0339 - val_accuracy: 0.9925 - val_precision_1: 0.9927 - val_recall_1: 0.9922\n",
            "Epoch 13/30\n",
            "844/844 [==============================] - 40s 48ms/step - loss: 0.0091 - accuracy: 0.9970 - precision_1: 0.9971 - recall_1: 0.9969 - val_loss: 0.0365 - val_accuracy: 0.9923 - val_precision_1: 0.9927 - val_recall_1: 0.9922\n",
            "Epoch 14/30\n",
            "844/844 [==============================] - 40s 47ms/step - loss: 0.0091 - accuracy: 0.9970 - precision_1: 0.9970 - recall_1: 0.9969 - val_loss: 0.0333 - val_accuracy: 0.9930 - val_precision_1: 0.9935 - val_recall_1: 0.9928\n",
            "Epoch 15/30\n",
            "844/844 [==============================] - 40s 47ms/step - loss: 0.0073 - accuracy: 0.9975 - precision_1: 0.9976 - recall_1: 0.9974 - val_loss: 0.0365 - val_accuracy: 0.9922 - val_precision_1: 0.9922 - val_recall_1: 0.9922\n",
            "Epoch 16/30\n",
            "844/844 [==============================] - 40s 48ms/step - loss: 0.0074 - accuracy: 0.9974 - precision_1: 0.9974 - recall_1: 0.9974 - val_loss: 0.0372 - val_accuracy: 0.9923 - val_precision_1: 0.9930 - val_recall_1: 0.9922\n",
            "Epoch 17/30\n",
            "844/844 [==============================] - 40s 47ms/step - loss: 0.0079 - accuracy: 0.9972 - precision_1: 0.9973 - recall_1: 0.9971 - val_loss: 0.0409 - val_accuracy: 0.9922 - val_precision_1: 0.9925 - val_recall_1: 0.9922\n",
            "Epoch 18/30\n",
            "844/844 [==============================] - 40s 48ms/step - loss: 0.0054 - accuracy: 0.9981 - precision_1: 0.9981 - recall_1: 0.9981 - val_loss: 0.0418 - val_accuracy: 0.9922 - val_precision_1: 0.9923 - val_recall_1: 0.9920\n",
            "Epoch 19/30\n",
            "844/844 [==============================] - 40s 48ms/step - loss: 0.0073 - accuracy: 0.9975 - precision_1: 0.9975 - recall_1: 0.9974 - val_loss: 0.0403 - val_accuracy: 0.9927 - val_precision_1: 0.9928 - val_recall_1: 0.9927\n",
            "Epoch 20/30\n",
            "844/844 [==============================] - 40s 47ms/step - loss: 0.0055 - accuracy: 0.9980 - precision_1: 0.9980 - recall_1: 0.9980 - val_loss: 0.0403 - val_accuracy: 0.9928 - val_precision_1: 0.9928 - val_recall_1: 0.9928\n",
            "Epoch 21/30\n",
            "844/844 [==============================] - 40s 47ms/step - loss: 0.0051 - accuracy: 0.9983 - precision_1: 0.9984 - recall_1: 0.9982 - val_loss: 0.0406 - val_accuracy: 0.9928 - val_precision_1: 0.9930 - val_recall_1: 0.9928\n",
            "Epoch 22/30\n",
            "844/844 [==============================] - 40s 48ms/step - loss: 0.0050 - accuracy: 0.9982 - precision_1: 0.9983 - recall_1: 0.9982 - val_loss: 0.0548 - val_accuracy: 0.9918 - val_precision_1: 0.9920 - val_recall_1: 0.9917\n",
            "Epoch 23/30\n",
            "844/844 [==============================] - 40s 47ms/step - loss: 0.0035 - accuracy: 0.9989 - precision_1: 0.9990 - recall_1: 0.9989 - val_loss: 0.0411 - val_accuracy: 0.9927 - val_precision_1: 0.9927 - val_recall_1: 0.9923\n",
            "Epoch 24/30\n",
            "844/844 [==============================] - 40s 47ms/step - loss: 0.0060 - accuracy: 0.9977 - precision_1: 0.9978 - recall_1: 0.9977 - val_loss: 0.0368 - val_accuracy: 0.9933 - val_precision_1: 0.9935 - val_recall_1: 0.9933\n",
            "Epoch 25/30\n",
            "844/844 [==============================] - 40s 48ms/step - loss: 0.0050 - accuracy: 0.9984 - precision_1: 0.9985 - recall_1: 0.9984 - val_loss: 0.0460 - val_accuracy: 0.9922 - val_precision_1: 0.9923 - val_recall_1: 0.9922\n",
            "Epoch 26/30\n",
            "844/844 [==============================] - 40s 48ms/step - loss: 0.0051 - accuracy: 0.9984 - precision_1: 0.9984 - recall_1: 0.9983 - val_loss: 0.0436 - val_accuracy: 0.9927 - val_precision_1: 0.9927 - val_recall_1: 0.9927\n",
            "Epoch 27/30\n",
            "844/844 [==============================] - 40s 48ms/step - loss: 0.0044 - accuracy: 0.9983 - precision_1: 0.9984 - recall_1: 0.9983 - val_loss: 0.0386 - val_accuracy: 0.9933 - val_precision_1: 0.9935 - val_recall_1: 0.9933\n",
            "Epoch 28/30\n",
            "844/844 [==============================] - 40s 47ms/step - loss: 0.0041 - accuracy: 0.9984 - precision_1: 0.9985 - recall_1: 0.9984 - val_loss: 0.0503 - val_accuracy: 0.9928 - val_precision_1: 0.9933 - val_recall_1: 0.9927\n",
            "Epoch 29/30\n",
            "844/844 [==============================] - 40s 47ms/step - loss: 0.0045 - accuracy: 0.9985 - precision_1: 0.9985 - recall_1: 0.9985 - val_loss: 0.0548 - val_accuracy: 0.9925 - val_precision_1: 0.9927 - val_recall_1: 0.9925\n",
            "Epoch 30/30\n",
            "844/844 [==============================] - 40s 48ms/step - loss: 0.0029 - accuracy: 0.9991 - precision_1: 0.9991 - recall_1: 0.9991 - val_loss: 0.0573 - val_accuracy: 0.9917 - val_precision_1: 0.9918 - val_recall_1: 0.9915\n"
          ]
        },
        {
          "output_type": "execute_result",
          "data": {
            "text/plain": [
              "<keras.callbacks.History at 0x7f177a698450>"
            ]
          },
          "metadata": {},
          "execution_count": 9
        }
      ]
    },
    {
      "cell_type": "code",
      "metadata": {
        "colab": {
          "base_uri": "https://localhost:8080/"
        },
        "id": "y_BviXigo5r6",
        "outputId": "221215c0-2dc9-4b23-d446-1309a9697618"
      },
      "source": [
        "accuracy_class(model15)"
      ],
      "execution_count": null,
      "outputs": [
        {
          "output_type": "stream",
          "name": "stdout",
          "text": [
            "Acurácia por Classe\n",
            "Classe 0: 99.387755%\n",
            "Classe 1: 99.295154%\n",
            "Classe 2: 99.224806%\n",
            "Classe 3: 99.603960%\n",
            "Classe 4: 99.185336%\n",
            "Classe 5: 98.318386%\n",
            "Classe 6: 99.060543%\n",
            "Classe 7: 99.221790%\n",
            "Classe 8: 99.794661%\n",
            "Classe 9: 98.711596%\n"
          ]
        }
      ]
    },
    {
      "cell_type": "code",
      "metadata": {
        "colab": {
          "base_uri": "https://localhost:8080/"
        },
        "id": "R5-IVKDmo8ZZ",
        "outputId": "31bcd462-4bef-4f32-d114-53e003259719"
      },
      "source": [
        "accuracy_total(model15)"
      ],
      "execution_count": null,
      "outputs": [
        {
          "output_type": "stream",
          "name": "stdout",
          "text": [
            "Acurácia Total: 0.991900\n",
            "Precision:      0.992195\n",
            "Recall:         0.991600\n"
          ]
        }
      ]
    },
    {
      "cell_type": "markdown",
      "metadata": {
        "id": "m85xOWYQt2uX"
      },
      "source": [
        "**Adicionar** a técnica de regularzição não foi o suficiente para ultrapassar os valores obtidos do modelo passado, porém ainda sim obtivemos taxas muito altas."
      ]
    },
    {
      "cell_type": "markdown",
      "metadata": {
        "id": "q6WYk5oyzrYG"
      },
      "source": [
        "Achamos a Cnn um pouco mais intuitiva, então foi mais fácil de visualizar as diferenças de cada alteração ou ajuste que faziamos."
      ]
    }
  ]
}